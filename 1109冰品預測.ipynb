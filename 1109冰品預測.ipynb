{
 "cells": [
  {
   "cell_type": "code",
   "execution_count": 2,
   "id": "e719ccdb",
   "metadata": {},
   "outputs": [],
   "source": [
    "import numpy as np\n",
    "import matplotlib.pyplot as plt\n",
    "from sklearn.linear_model import LinearRegression"
   ]
  },
  {
   "cell_type": "code",
   "execution_count": 3,
   "id": "cfd2096d",
   "metadata": {},
   "outputs": [],
   "source": [
    "temp=np.array([29,28,34,31,25,29,32,31,24,33,25,31,26,30])"
   ]
  },
  {
   "cell_type": "code",
   "execution_count": 4,
   "id": "f7bd6830",
   "metadata": {},
   "outputs": [],
   "source": [
    "ice=np.array([77,62,93,84,59,64,80,75,58,91,51,73,65,84])"
   ]
  },
  {
   "cell_type": "code",
   "execution_count": 5,
   "id": "0d19e875",
   "metadata": {},
   "outputs": [
    {
     "data": {
      "text/plain": [
       "<matplotlib.collections.PathCollection at 0x1da7b26bca0>"
      ]
     },
     "execution_count": 5,
     "metadata": {},
     "output_type": "execute_result"
    },
    {
     "data": {
      "image/png": "[encoded data removed]",
      "text/plain": [
       "<Figure size 432x288 with 1 Axes>"
      ]
     },
     "metadata": {
      "needs_background": "light"
     },
     "output_type": "display_data"
    }
   ],
   "source": [
    "plt.scatter(temp,ice)#散圖"
   ]
  },
  {
   "cell_type": "code",
   "execution_count": 7,
   "id": "6e15ed72",
   "metadata": {},
   "outputs": [],
   "source": [
    "lr=LinearRegression()#訓練"
   ]
  },
  {
   "cell_type": "code",
   "execution_count": 19,
   "id": "c203ccd6",
   "metadata": {},
   "outputs": [],
   "source": [
    "temp_shape=np.reshape(temp,(len(temp),1))#來源去改len分群"
   ]
  },
  {
   "cell_type": "code",
   "execution_count": 20,
   "id": "5cc3cc66",
   "metadata": {},
   "outputs": [],
   "source": [
    "ice_shape=np.reshape(ice,(len(ice),1))"
   ]
  },
  {
   "cell_type": "code",
   "execution_count": 21,
   "id": "2707d718",
   "metadata": {},
   "outputs": [
    {
     "data": {
      "text/plain": [
       "LinearRegression()"
      ]
     },
     "execution_count": 21,
     "metadata": {},
     "output_type": "execute_result"
    }
   ],
   "source": [
    "lr.fit(temp_shape,ice_shape)"
   ]
  },
  {
   "cell_type": "code",
   "execution_count": null,
   "id": "b845875f",
   "metadata": {},
   "outputs": [],
   "source": []
  },
  {
   "cell_type": "code",
   "execution_count": 12,
   "id": "4fe2f218",
   "metadata": {},
   "outputs": [
    {
     "data": {
      "text/plain": [
       "array([[77],\n",
       "       [62],\n",
       "       [93],\n",
       "       [84],\n",
       "       [59],\n",
       "       [64],\n",
       "       [80],\n",
       "       [75],\n",
       "       [58],\n",
       "       [91],\n",
       "       [51],\n",
       "       [73],\n",
       "       [65],\n",
       "       [84]])"
      ]
     },
     "execution_count": 12,
     "metadata": {},
     "output_type": "execute_result"
    }
   ],
   "source": [
    "temp_shape"
   ]
  },
  {
   "cell_type": "code",
   "execution_count": null,
   "id": "62996407",
   "metadata": {},
   "outputs": [],
   "source": []
  },
  {
   "cell_type": "code",
   "execution_count": 22,
   "id": "2bda4c7d",
   "metadata": {},
   "outputs": [],
   "source": [
    "new_temp=np.array([30])\n",
    "new_shape=np.reshape(new_temp,(len(new_temp),1))"
   ]
  },
  {
   "cell_type": "code",
   "execution_count": 23,
   "id": "f31d3c50",
   "metadata": {},
   "outputs": [],
   "source": [
    "cup=lr.predict(new_shape)"
   ]
  },
  {
   "cell_type": "code",
   "execution_count": 24,
   "id": "bdfaebd8",
   "metadata": {},
   "outputs": [
    {
     "data": {
      "text/plain": [
       "array([[75.7753304]])"
      ]
     },
     "execution_count": 24,
     "metadata": {},
     "output_type": "execute_result"
    }
   ],
   "source": [
    "cup"
   ]
  },
  {
   "cell_type": "code",
   "execution_count": null,
   "id": "6eea2906",
   "metadata": {},
   "outputs": [],
   "source": []
  },
  {
   "cell_type": "code",
   "execution_count": 26,
   "id": "dcdcc01e",
   "metadata": {},
   "outputs": [
    {
     "data": {
      "text/plain": [
       "<matplotlib.collections.PathCollection at 0x1da7ccb0700>"
      ]
     },
     "execution_count": 26,
     "metadata": {},
     "output_type": "execute_result"
    },
    {
     "data": {
      "image/png": "[encoded data removed]",
      "text/plain": [
       "<Figure size 432x288 with 1 Axes>"
      ]
     },
     "metadata": {
      "needs_background": "light"
     },
     "output_type": "display_data"
    }
   ],
   "source": [
    "plt.scatter(temp,ice)"
   ]
  },
  {
   "cell_type": "code",
   "execution_count": 33,
   "id": "e023ec2a",
   "metadata": {},
   "outputs": [
    {
     "data": {
      "text/plain": [
       "[<matplotlib.lines.Line2D at 0x1da7cebdd90>]"
      ]
     },
     "execution_count": 33,
     "metadata": {},
     "output_type": "execute_result"
    },
    {
     "data": {
      "image/png": "[encoded data removed]",
      "text/plain": [
       "<Figure size 432x288 with 1 Axes>"
      ]
     },
     "metadata": {
      "needs_background": "light"
     },
     "output_type": "display_data"
    }
   ],
   "source": [
    "plt.scatter(temp,ice)\n",
    "plt.plot(temp,lr.predict(np.reshape(temp,(len(temp),1))),color='blue',linewidth=4)\n",
    "plt.plot(new_temp,cup,color='red',marker='s')"
   ]
  },
  {
   "cell_type": "code",
   "execution_count": 32,
   "id": "c62b3140",
   "metadata": {},
   "outputs": [
    {
     "data": {
      "text/plain": [
       "[<matplotlib.lines.Line2D at 0x1da7ce59850>]"
      ]
     },
     "execution_count": 32,
     "metadata": {},
     "output_type": "execute_result"
    },
    {
     "data": {
      "image/png": "[encoded data removed]",
      "text/plain": [
       "<Figure size 432x288 with 1 Axes>"
      ]
     },
     "metadata": {
      "needs_background": "light"
     },
     "output_type": "display_data"
    }
   ],
   "source": []
  },
  {
   "cell_type": "code",
   "execution_count": null,
   "id": "e71bed62",
   "metadata": {},
   "outputs": [],
   "source": []
  }
 ],
 "metadata": {
  "kernelspec": {
   "display_name": "Python 3",
   "language": "python",
   "name": "python3"
  },
  "language_info": {
   "codemirror_mode": {
    "name": "ipython",
    "version": 3
   },
   "file_extension": ".py",
   "mimetype": "text/x-python",
   "name": "python",
   "nbconvert_exporter": "python",
   "pygments_lexer": "ipython3",
   "version": "3.8.8"
  }
 },
 "nbformat": 4,
 "nbformat_minor": 5
}
