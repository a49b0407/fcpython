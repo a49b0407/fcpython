{
 "cells": [
  {
   "cell_type": "code",
   "execution_count": 1,
   "metadata": {},
   "outputs": [
    {
     "name": "stdout",
     "output_type": "stream",
     "text": [
      "Requirement already satisfied: fake_useragent in c:\\programdata\\anaconda3\\lib\\site-packages (0.1.11)\n"
     ]
    }
   ],
   "source": [
    "!pip install fake_useragent"
   ]
  },
  {
   "cell_type": "code",
   "execution_count": 3,
   "metadata": {},
   "outputs": [
    {
     "name": "stdout",
     "output_type": "stream",
     "text": [
      "200\n",
      "{'Server': 'nginx', 'Date': 'Wed, 04 Aug 2021 01:39:29 GMT', 'Content-Type': 'text/html; charset=UTF-8', 'Transfer-Encoding': 'chunked', 'Connection': 'keep-alive', 'Vary': 'Accept-Encoding, Accept-Encoding,User-Agent', 'Set-Cookie': 'bid=6109efd186391; expires=Fri, 04-Aug-2023 01:39:29 GMT; Max-Age=63072000; path=/; domain=books.com.tw, ssid=6109efd186391.1628041169; expires=Wed, 04-Aug-2021 02:09:29 GMT; Max-Age=1800; path=/; domain=books.com.tw, bt=qxaklt; expires=Wed, 04-Aug-2021 01:44:29 GMT; Max-Age=300; path=/; domain=books.com.tw', 'Cache-Control': 'max-age=0', 'Expires': 'Wed, 04 Aug 2021 01:39:29 GMT', 'Content-Encoding': 'gzip'}\n"
     ]
    }
   ],
   "source": [
    "import requests\n",
    "from fake_useragent import UserAgent\n",
    "ua = UserAgent()\n",
    "url='https://www.books.com.tw/products/0010456315?sloc=main' \n",
    "headers={'User-Agent':ua.random}\n",
    "html=requests.get(url,headers=headers)\n",
    "print(html.status_code)\n",
    "print(html.headers)"
   ]
  },
  {
   "cell_type": "code",
   "execution_count": 15,
   "metadata": {},
   "outputs": [
    {
     "name": "stdout",
     "output_type": "stream",
     "text": [
      "200\n",
      "<div class=\"prod_cont_a\">\n",
      "<ul class=\"price\">\n",
      "<li>定價：<em>820</em>元</li>\n",
      "<li>優惠價：<strong><b>9</b></strong>折<strong class=\"price01\"><b>738</b></strong>元</li><li>本商品單次購買10本85折<strong>697</strong>元</li></ul>\n",
      "</div>\n"
     ]
    }
   ],
   "source": [
    "from bs4 import BeautifulSoup\n",
    "from fake_useragent import UserAgent\n",
    "import requests\n",
    "ua = UserAgent()\n",
    "url='https://www.books.com.tw/products/0010456315?sloc=main'\n",
    "headers={'User-Agent':ua.random}\n",
    "html=requests.get(url,headers=headers)\n",
    "soup=BeautifulSoup(html.text,'lxml')\n",
    "summary = soup.find('div',{'prod_cont_a'})\n",
    "print(html.status_code)\n",
    "print(summary)"
   ]
  },
  {
   "cell_type": "code",
   "execution_count": null,
   "metadata": {},
   "outputs": [],
   "source": []
  }
 ],
 "metadata": {
  "kernelspec": {
   "display_name": "Python 3",
   "language": "python",
   "name": "python3"
  },
  "language_info": {
   "codemirror_mode": {
    "name": "ipython",
    "version": 3
   },
   "file_extension": ".py",
   "mimetype": "text/x-python",
   "name": "python",
   "nbconvert_exporter": "python",
   "pygments_lexer": "ipython3",
   "version": "3.8.5"
  }
 },
 "nbformat": 4,
 "nbformat_minor": 4
}
