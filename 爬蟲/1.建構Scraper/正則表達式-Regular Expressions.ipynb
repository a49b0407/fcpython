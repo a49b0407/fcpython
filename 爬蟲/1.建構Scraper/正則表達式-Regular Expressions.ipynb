{
 "cells": [
  {
   "cell_type": "markdown",
   "metadata": {},
   "source": [
    "<h1>光頭傑夫製作</h1><img src=\"https://rolqiw.bl.files.1drv.com/y4mYqkObWmQmdJFd8pab8t8m7d_mFhh3_YG63fiAnPaG6gjahHFt0n087pF97x1W2wemm7hd4ZdiPD2OxoPtqcCD_4-Jy-fojnt97kGGWR4Hnq0-9Ny61afd7WVHVTmF_9pcr45OFDFSwLKByeQU1q9TjwKk-HsNmWVsW1eGQ4Gi-9G4pQ5DYoTxswYJ5r5dLF-kKsA1InEyrqmV3kF5pm4WQ?width=658&height=584&cropmode=none\" style='width:160px;margin:0'/>\n",
    "\n",
    "\n",
    "<!-- 9781593275990 -->"
   ]
  },
  {
   "cell_type": "markdown",
   "metadata": {},
   "source": [
    "## [正則表達式連結](https://www.w3schools.com/python/python_regex.asp)"
   ]
  },
  {
   "cell_type": "markdown",
   "metadata": {},
   "source": [
    "### <span style=\"color:red \">為什麼我們需要正則表達式(Regular expressions, 或是簡稱 regexes)?\n",
    "----\n",
    "    這世界文字的表達方式很多，我們有沒有\"大概的方法\"，就可以把我們要的資料篩選出來，這樣我們分析網頁，就可以很輕鬆了!!"
   ]
  },
  {
   "cell_type": "markdown",
   "metadata": {},
   "source": [
    "### <span style=\"color:red \">先舉個例，我們要找電話號碼..."
   ]
  },
  {
   "cell_type": "code",
   "execution_count": 2,
   "metadata": {},
   "outputs": [],
   "source": [
    "#我們有一段文字，我們希望可以把電話號碼挑出來\n",
    "message = 'Call me at 415-555-1011 tomorrow. 415-555-9999 is my office.'"
   ]
  },
  {
   "cell_type": "code",
   "execution_count": 5,
   "metadata": {},
   "outputs": [
    {
     "name": "stdout",
     "output_type": "stream",
     "text": [
      "True\n",
      "False\n"
     ]
    }
   ],
   "source": [
    "#首先我們嘗試先寫個Function...把電話辨識出來\n",
    "def isPhoneNumber(text):\n",
    "    if len(text) != 12:\n",
    "        return False\n",
    "    for i in range(0, 3):\n",
    "        if not text[i].isdecimal():\n",
    "            return False\n",
    "    if text[3] != '-':\n",
    "        return False\n",
    "    for i in range(4, 7):\n",
    "        if not text[i].isdecimal():\n",
    "            return False\n",
    "    if text[7] != '-':\n",
    "        return False\n",
    "    for i in range(8, 12):\n",
    "        if not text[i].isdecimal():\n",
    "            return False\n",
    "    return True\n",
    "\n",
    "print(isPhoneNumber('415-555-4242'))\n",
    "print(isPhoneNumber('Moshi moshi'))"
   ]
  },
  {
   "cell_type": "code",
   "execution_count": 6,
   "metadata": {},
   "outputs": [
    {
     "name": "stdout",
     "output_type": "stream",
     "text": [
      "Phone number found: 415-555-1011\n",
      "Phone number found: 415-555-9999\n",
      "Done\n"
     ]
    }
   ],
   "source": [
    "for i in range(len(message)):\n",
    "    chunk = message[i:i+12]\n",
    "    if isPhoneNumber(chunk):\n",
    "        print('Phone number found: ' + chunk)\n",
    "print('Done')"
   ]
  },
  {
   "cell_type": "markdown",
   "metadata": {},
   "source": [
    "### <span style=\"color:red \">但是，我的老天額啊.....\n",
    "----\n",
    "```\n",
    "    這段碼不誇張，從頭到尾17行，\n",
    "    還只能辨識一種型態的電話號碼...\n",
    "    如果電話號碼長成下面這個樣...\n",
    "    415.555.4242 or (415) 555-4242?\n",
    "    \n",
    "```"
   ]
  },
  {
   "cell_type": "markdown",
   "metadata": {},
   "source": [
    "### <span style=\"color:red \">正則表達式出手...\n",
    "----\n",
    "```\n",
    "   正則表達式簡單的說，就是要用代號的方式，把這個patten給寫出來。\n",
    "   譬如:\n",
    "   \\d在正則表達式裡面代表一個數字(digital):\n",
    "   所以前面那支電話就就可以表達如下:\n",
    "   \\d\\d\\d-\\d\\d\\d-\\d\\d\\d\\d\n",
    "   這樣就可以把前面那個落落長的isPhoneNumber()取代掉\n",
    "    \n",
    "```"
   ]
  },
  {
   "cell_type": "markdown",
   "metadata": {},
   "source": [
    "### <span style=\"color:red \">正則表達式的世界大概長這樣"
   ]
  },
  {
   "cell_type": "code",
   "execution_count": 7,
   "metadata": {},
   "outputs": [
    {
     "data": {
      "text/plain": [
       "['415-555-1011', '415-555-9999']"
      ]
     },
     "execution_count": 7,
     "metadata": {},
     "output_type": "execute_result"
    }
   ],
   "source": [
    "import re\n",
    "#加了r，就可以自動避免還要處理一些string的特殊符號\n",
    "phoneNumRegex = re.compile(r'\\d\\d\\d-\\d\\d\\d-\\d\\d\\d\\d')\n",
    "phoneNumRegex.findall(message)"
   ]
  },
  {
   "cell_type": "markdown",
   "metadata": {},
   "source": [
    "### <span style=\"color:red \">如果正則表達式都要\\d\\d\\d-\\d\\d\\d-\\d\\d\\d\\d 這樣寫，那真的朕就怒了!!!\n",
    "----\n",
    "```\n",
    "   正則表達式其實是很多才多藝的，\n",
    "   譬如我們可以用{3}表示重複3次的意思，\n",
    "   那前面的電話就可以換成這樣表示:\n",
    "   \\d{3}-\\d{3}-\\d{4}\n",
    "    \n",
    "   所以正則表達式，說穿了就是在學這些「摩斯密碼」，去把你要的patten給描繪出來。\n",
    "    \n",
    "```"
   ]
  },
  {
   "cell_type": "markdown",
   "metadata": {},
   "source": [
    "### <span style=\"color:red \">正則表達式工具上手-re"
   ]
  },
  {
   "cell_type": "markdown",
   "metadata": {},
   "source": [
    "### <span style=\"color:red \">導入模組re"
   ]
  },
  {
   "cell_type": "code",
   "execution_count": 8,
   "metadata": {
    "scrolled": false
   },
   "outputs": [
    {
     "data": {
      "text/plain": [
       "['A',\n",
       " 'ASCII',\n",
       " 'DEBUG',\n",
       " 'DOTALL',\n",
       " 'I',\n",
       " 'IGNORECASE',\n",
       " 'L',\n",
       " 'LOCALE',\n",
       " 'M',\n",
       " 'MULTILINE',\n",
       " 'Match',\n",
       " 'Pattern',\n",
       " 'RegexFlag',\n",
       " 'S',\n",
       " 'Scanner',\n",
       " 'T',\n",
       " 'TEMPLATE',\n",
       " 'U',\n",
       " 'UNICODE',\n",
       " 'VERBOSE',\n",
       " 'X',\n",
       " '_MAXCACHE',\n",
       " '__all__',\n",
       " '__builtins__',\n",
       " '__cached__',\n",
       " '__doc__',\n",
       " '__file__',\n",
       " '__loader__',\n",
       " '__name__',\n",
       " '__package__',\n",
       " '__spec__',\n",
       " '__version__',\n",
       " '_cache',\n",
       " '_compile',\n",
       " '_compile_repl',\n",
       " '_expand',\n",
       " '_locale',\n",
       " '_pickle',\n",
       " '_special_chars_map',\n",
       " '_subx',\n",
       " 'compile',\n",
       " 'copyreg',\n",
       " 'enum',\n",
       " 'error',\n",
       " 'escape',\n",
       " 'findall',\n",
       " 'finditer',\n",
       " 'fullmatch',\n",
       " 'functools',\n",
       " 'match',\n",
       " 'purge',\n",
       " 'search',\n",
       " 'split',\n",
       " 'sre_compile',\n",
       " 'sre_parse',\n",
       " 'sub',\n",
       " 'subn',\n",
       " 'template']"
      ]
     },
     "execution_count": 8,
     "metadata": {},
     "output_type": "execute_result"
    }
   ],
   "source": [
    "import re\n",
    "\n",
    "#看一下re工具有多少可以用\n",
    "dir(re)        "
   ]
  },
  {
   "cell_type": "markdown",
   "metadata": {},
   "source": [
    "### <span style=\"color:red \">等一下要分析的句子"
   ]
  },
  {
   "cell_type": "code",
   "execution_count": 9,
   "metadata": {},
   "outputs": [],
   "source": [
    "sentence = \"\"\"Brief information about Jobs in Python. Programming and\n",
    "Scripting experience in some language (such as Python R, MATLAB, SAS,\n",
    "Mathematica, Java, C, C++, VB, JavaScript or FORTRAN) is expected.\n",
    "Participants should be comfortable with basic programming concepts like\n",
    "variables, loops, and functions.\"\"\""
   ]
  },
  {
   "cell_type": "markdown",
   "metadata": {},
   "source": [
    "### <span style=\"color:red \">試一下re的功能"
   ]
  },
  {
   "cell_type": "code",
   "execution_count": 10,
   "metadata": {},
   "outputs": [
    {
     "data": {
      "text/plain": [
       "['Brief',\n",
       " 'information',\n",
       " 'about',\n",
       " 'Jobs',\n",
       " 'in',\n",
       " 'Python.',\n",
       " 'Programming',\n",
       " 'and',\n",
       " 'Scripting',\n",
       " 'experience',\n",
       " 'in',\n",
       " 'some',\n",
       " 'language',\n",
       " '(such',\n",
       " 'as',\n",
       " 'Python',\n",
       " 'R,',\n",
       " 'MATLAB,',\n",
       " 'SAS,',\n",
       " 'Mathematica,',\n",
       " 'Java,',\n",
       " 'C,',\n",
       " 'C++,',\n",
       " 'VB,',\n",
       " 'JavaScript',\n",
       " 'or',\n",
       " 'FORTRAN)',\n",
       " 'is',\n",
       " 'expected.',\n",
       " 'Participants',\n",
       " 'should',\n",
       " 'be',\n",
       " 'comfortable',\n",
       " 'with',\n",
       " 'basic',\n",
       " 'programming',\n",
       " 'concepts',\n",
       " 'like',\n",
       " 'variables,',\n",
       " 'loops,',\n",
       " 'and',\n",
       " 'functions.']"
      ]
     },
     "execution_count": 10,
     "metadata": {},
     "output_type": "execute_result"
    }
   ],
   "source": [
    "#切割單字\n",
    "splitSentence=re.split(r'\\s',sentence)\n",
    "splitSentence"
   ]
  },
  {
   "cell_type": "code",
   "execution_count": 11,
   "metadata": {
    "scrolled": false
   },
   "outputs": [
    {
     "name": "stdout",
     "output_type": "stream",
     "text": [
      "Length of Sentence:  297 & splitSentence: 42\n"
     ]
    }
   ],
   "source": [
    "#字母數和字數\n",
    "print(\"Length of Sentence: \",len(sentence), '& splitSentence:',len(splitSentence))"
   ]
  },
  {
   "cell_type": "markdown",
   "metadata": {},
   "source": [
    "### <span style=\"color:red \">先把我們要的pattern，做成模具...\n",
    "-----\n",
    "    這個模具將來就是「認親大會」的利器"
   ]
  },
  {
   "cell_type": "code",
   "execution_count": 12,
   "metadata": {},
   "outputs": [],
   "source": [
    "phoneNumRegex = re.compile(r'\\d\\d\\d-\\d\\d\\d-\\d\\d\\d\\d')"
   ]
  },
  {
   "cell_type": "markdown",
   "metadata": {},
   "source": [
    "### <span style=\"color:red \">然後利用這個模具search...\n",
    "-----\n",
    "    找到一個符合就結束"
   ]
  },
  {
   "cell_type": "code",
   "execution_count": 13,
   "metadata": {},
   "outputs": [
    {
     "name": "stdout",
     "output_type": "stream",
     "text": [
      "Phone number found: 415-555-4242\n"
     ]
    }
   ],
   "source": [
    "mo = phoneNumRegex.search('My number is 415-555-4242.')\n",
    "\n",
    "#the search() method returns a Match object.\n",
    "#Match objects have a group() method that will return the actual matched text from the searched string.\n",
    "\n",
    "print('Phone number found: ' + mo.group())"
   ]
  },
  {
   "cell_type": "markdown",
   "metadata": {},
   "source": [
    "### <span style=\"color:red \">你要一句寫好也可以"
   ]
  },
  {
   "cell_type": "code",
   "execution_count": 14,
   "metadata": {},
   "outputs": [
    {
     "name": "stdout",
     "output_type": "stream",
     "text": [
      "Phone number found: 415-555-4242\n"
     ]
    }
   ],
   "source": [
    "mo = re.search(r'\\d\\d\\d-\\d\\d\\d-\\d\\d\\d\\d','My number is 415-555-4242.')\n",
    "\n",
    "#the search() method returns a Match object.\n",
    "#Match objects have a group() method that will return the actual matched text from the searched string.\n",
    "\n",
    "print('Phone number found: ' + mo.group())"
   ]
  },
  {
   "cell_type": "markdown",
   "metadata": {},
   "source": [
    "## <span style=\"color:red \"><小測驗>請幫我把電話篩出來\n",
    "```\n",
    "    有一段文字\n",
    "    \"我有兩支手機電話分別是 0933-555-424.\"\n",
    "```"
   ]
  },
  {
   "cell_type": "code",
   "execution_count": 17,
   "metadata": {},
   "outputs": [
    {
     "name": "stdout",
     "output_type": "stream",
     "text": [
      "號碼0933-555-424:0933-555-424\n"
     ]
    }
   ],
   "source": [
    "a = re.compile(r'\\d\\d\\d\\d-\\d\\d\\d-\\d\\d\\d')\n",
    "b = a.search('我有兩支手機電話分別是 0933-555-424')\n",
    "print('號碼0933-555-424:'  + mo.group())"
   ]
  },
  {
   "cell_type": "markdown",
   "metadata": {},
   "source": [
    "### <span style=\"color:red \"><答案>"
   ]
  },
  {
   "cell_type": "code",
   "execution_count": 16,
   "metadata": {},
   "outputs": [
    {
     "name": "stdout",
     "output_type": "stream",
     "text": [
      "Phone number found: 0933-555-424\n"
     ]
    }
   ],
   "source": [
    "phoneNumRegex = re.compile(r'\\d\\d\\d\\d-\\d\\d\\d-\\d\\d\\d')\n",
    "mo = phoneNumRegex.search('我有兩支手機電話分別是 0933-555-424.')\n",
    "print('Phone number found: ' + mo.group())"
   ]
  },
  {
   "cell_type": "markdown",
   "metadata": {},
   "source": [
    "### <span style=\"color:red \">整理一下上面的步驟:\n",
    "1. 導入re\n",
    "2. 創造模具\n",
    "3. 導入你要搜尋的文句。\n",
    "4. 看一下Group，確認搜查結果。"
   ]
  },
  {
   "cell_type": "markdown",
   "metadata": {},
   "source": [
    "### <span style=\"color:red \">讓我們進一步多聊聊..."
   ]
  },
  {
   "cell_type": "markdown",
   "metadata": {},
   "source": [
    "### <span style=\"color:red \">用( )做條件群組動作-\n",
    "-----\n",
    "```\n",
    "    以下面為例，\n",
    "    你可以把條件拆分成第一條件和第二條件，  \n",
    "    仍然要所有條件都符合才可以篩出來，  \n",
    "    但是搜尋結果會變成\"兩個群組件都符合的\"、\"第一個群組條件符合的\"、\"第二個群組條件符合的\"\n",
    "    \n",
    "    \n",
    "```"
   ]
  },
  {
   "cell_type": "code",
   "execution_count": 2,
   "metadata": {},
   "outputs": [
    {
     "ename": "NameError",
     "evalue": "name 're' is not defined",
     "output_type": "error",
     "traceback": [
      "\u001b[1;31m---------------------------------------------------------------------------\u001b[0m",
      "\u001b[1;31mNameError\u001b[0m                                 Traceback (most recent call last)",
      "\u001b[1;32m<ipython-input-2-90b917e31cce>\u001b[0m in \u001b[0;36m<module>\u001b[1;34m\u001b[0m\n\u001b[1;32m----> 1\u001b[1;33m \u001b[0mphoneNumRegex\u001b[0m \u001b[1;33m=\u001b[0m \u001b[0mre\u001b[0m\u001b[1;33m.\u001b[0m\u001b[0mcompile\u001b[0m\u001b[1;33m(\u001b[0m\u001b[1;34mr'(\\d\\d\\d)-(\\d\\d\\d-\\d\\d\\d\\d)'\u001b[0m\u001b[1;33m)\u001b[0m\u001b[1;33m\u001b[0m\u001b[1;33m\u001b[0m\u001b[0m\n\u001b[0m\u001b[0;32m      2\u001b[0m \u001b[0mmo\u001b[0m \u001b[1;33m=\u001b[0m \u001b[0mphoneNumRegex\u001b[0m\u001b[1;33m.\u001b[0m\u001b[0msearch\u001b[0m\u001b[1;33m(\u001b[0m\u001b[1;34m'My number is 415-555-4242.'\u001b[0m\u001b[1;33m)\u001b[0m\u001b[1;33m\u001b[0m\u001b[1;33m\u001b[0m\u001b[0m\n",
      "\u001b[1;31mNameError\u001b[0m: name 're' is not defined"
     ]
    }
   ],
   "source": [
    "phoneNumRegex = re.compile(r'(\\d\\d\\d)-(\\d\\d\\d-\\d\\d\\d\\d)')\n",
    "mo = phoneNumRegex.search('My number is 415-555-4242.')"
   ]
  },
  {
   "cell_type": "code",
   "execution_count": 16,
   "metadata": {},
   "outputs": [
    {
     "data": {
      "text/plain": [
       "'415'"
      ]
     },
     "execution_count": 16,
     "metadata": {},
     "output_type": "execute_result"
    }
   ],
   "source": [
    "mo.group(1)"
   ]
  },
  {
   "cell_type": "code",
   "execution_count": 17,
   "metadata": {},
   "outputs": [
    {
     "data": {
      "text/plain": [
       "'555-4242'"
      ]
     },
     "execution_count": 17,
     "metadata": {},
     "output_type": "execute_result"
    }
   ],
   "source": [
    "mo.group(2)"
   ]
  },
  {
   "cell_type": "code",
   "execution_count": 18,
   "metadata": {},
   "outputs": [
    {
     "data": {
      "text/plain": [
       "'415-555-4242'"
      ]
     },
     "execution_count": 18,
     "metadata": {},
     "output_type": "execute_result"
    }
   ],
   "source": [
    "mo.group(0)"
   ]
  },
  {
   "cell_type": "code",
   "execution_count": 19,
   "metadata": {},
   "outputs": [
    {
     "data": {
      "text/plain": [
       "'415-555-4242'"
      ]
     },
     "execution_count": 19,
     "metadata": {},
     "output_type": "execute_result"
    }
   ],
   "source": [
    "#跟上面一句話一樣\n",
    "#換句話說，不寫0也可以看到整合的結果\n",
    "mo.group()"
   ]
  },
  {
   "cell_type": "code",
   "execution_count": 20,
   "metadata": {},
   "outputs": [
    {
     "data": {
      "text/plain": [
       "('415', '555-4242')"
      ]
     },
     "execution_count": 20,
     "metadata": {},
     "output_type": "execute_result"
    }
   ],
   "source": [
    "mo.groups()"
   ]
  },
  {
   "cell_type": "code",
   "execution_count": 21,
   "metadata": {},
   "outputs": [
    {
     "name": "stdout",
     "output_type": "stream",
     "text": [
      "區碼是:415,電話是:555-4242\n"
     ]
    }
   ],
   "source": [
    "#因為你有區分條件，所以你就可以分拆變數\n",
    "areaCode, mainNumber = mo.groups()\n",
    "print(f'區碼是:{areaCode},電話是:{mainNumber}')"
   ]
  },
  {
   "cell_type": "markdown",
   "metadata": {},
   "source": [
    "## <span style=\"color:red \"><小測驗>請試試\n",
    "```\n",
    "   phoneNumRegex = re.compile(r'(\\d\\d\\d)-(\\d\\d\\d-\\d\\d\\d\\d)')\n",
    "   mo = phoneNumRegex.search('My number is 555-4242.')\n",
    "\n",
    "```\n",
    "會怎麼樣??"
   ]
  },
  {
   "cell_type": "code",
   "execution_count": 1,
   "metadata": {},
   "outputs": [
    {
     "ename": "NameError",
     "evalue": "name 're' is not defined",
     "output_type": "error",
     "traceback": [
      "\u001b[1;31m---------------------------------------------------------------------------\u001b[0m",
      "\u001b[1;31mNameError\u001b[0m                                 Traceback (most recent call last)",
      "\u001b[1;32m<ipython-input-1-0e960783ab62>\u001b[0m in \u001b[0;36m<module>\u001b[1;34m\u001b[0m\n\u001b[1;32m----> 1\u001b[1;33m \u001b[0mphoneNumRegex\u001b[0m \u001b[1;33m=\u001b[0m \u001b[0mre\u001b[0m\u001b[1;33m.\u001b[0m\u001b[0mcompile\u001b[0m\u001b[1;33m(\u001b[0m\u001b[1;34mr'(\\d\\d\\d)-(\\d\\d\\d-\\d\\d\\d\\d)'\u001b[0m\u001b[1;33m)\u001b[0m\u001b[1;33m\u001b[0m\u001b[1;33m\u001b[0m\u001b[0m\n\u001b[0m\u001b[0;32m      2\u001b[0m \u001b[0mmo\u001b[0m \u001b[1;33m=\u001b[0m \u001b[0mphoneNumRegex\u001b[0m\u001b[1;33m.\u001b[0m\u001b[0msearch\u001b[0m\u001b[1;33m(\u001b[0m\u001b[1;34m'My number is 555-4242.'\u001b[0m\u001b[1;33m)\u001b[0m\u001b[1;33m\u001b[0m\u001b[1;33m\u001b[0m\u001b[0m\n",
      "\u001b[1;31mNameError\u001b[0m: name 're' is not defined"
     ]
    }
   ],
   "source": []
  },
  {
   "cell_type": "markdown",
   "metadata": {},
   "source": [
    "## <span style=\"color:red \"><小測驗>請幫我把電話篩出來\n",
    "```\n",
    "    有一段文字如下\n",
    "    \"我公司電話是02-1234-8888\"\n",
    "    請幫我把這段文字轉成\n",
    "\n",
    "```\n",
    "###    \"我的公司電話是12348888，外縣市請加02\""
   ]
  },
  {
   "cell_type": "code",
   "execution_count": null,
   "metadata": {},
   "outputs": [],
   "source": []
  },
  {
   "cell_type": "markdown",
   "metadata": {},
   "source": [
    "### <span style=\"color:red \"><答案>"
   ]
  },
  {
   "cell_type": "code",
   "execution_count": null,
   "metadata": {},
   "outputs": [],
   "source": [
    "phoneNumRegex = re.compile(r'(\\d\\d)-(\\d\\d\\d\\d)-(\\d\\d\\d\\d)')\n",
    "mo = phoneNumRegex.search('我公司電話是02-1234-8888')\n",
    "print('我的公司電話是{}{}，外縣市請加{}'.format(mo.group(2),mo.group(3),mo.group(1)))"
   ]
  },
  {
   "cell_type": "markdown",
   "metadata": {},
   "source": [
    "## <span style=\"color:red \">如果你要用re搜尋括號怎麼辦...-跳脫字元(就是告訴re直接讀)\n",
    "----\n",
    "```\n",
    "    要搜以下的字元，都加\\\n",
    "    . ^ $ * + ? { } [ ] \\ | ( )\n",
    "```\n",
    "\n",
    "###  <span style=\"color:red \">因為這些符號在re裡面都有特別的意義，你要告訴re不要管"
   ]
  },
  {
   "cell_type": "markdown",
   "metadata": {},
   "source": [
    "## [跳脫字元](https://www.w3schools.com/python/gloss_python_escape_characters.asp)"
   ]
  },
  {
   "cell_type": "markdown",
   "metadata": {},
   "source": [
    "## <span style=\"color:red \">r ==>raw string的意思\n",
    "----\n",
    "就是給我照著字面念，碰到任何的特殊符號都不要給我轉義"
   ]
  },
  {
   "cell_type": "code",
   "execution_count": 12,
   "metadata": {},
   "outputs": [
    {
     "name": "stdout",
     "output_type": "stream",
     "text": [
      "5554\\242\n"
     ]
    }
   ],
   "source": [
    "#沒有用\\\\就會以為這是轉義符號\n",
    "print('5554\\n242')"
   ]
  },
  {
   "cell_type": "code",
   "execution_count": 28,
   "metadata": {},
   "outputs": [
    {
     "name": "stdout",
     "output_type": "stream",
     "text": [
      "5554\\n242\n"
     ]
    }
   ],
   "source": [
    "#或是加r，那\\就是\\\n",
    "print(r'5554\\n242')"
   ]
  },
  {
   "cell_type": "code",
   "execution_count": 26,
   "metadata": {},
   "outputs": [
    {
     "name": "stdout",
     "output_type": "stream",
     "text": [
      "5554\\n242\n"
     ]
    }
   ],
   "source": [
    "#那你知道為什麼Raw string可以讓它失效嗎??\n",
    "#因為多加了1個\\\n",
    "print('5554\\\\n242')"
   ]
  },
  {
   "cell_type": "code",
   "execution_count": 4,
   "metadata": {},
   "outputs": [
    {
     "data": {
      "text/plain": [
       "'(415) 5554242'"
      ]
     },
     "execution_count": 4,
     "metadata": {},
     "output_type": "execute_result"
    }
   ],
   "source": [
    "import re\n",
    "phoneNumRegex = re.compile(r'(\\(\\d\\d\\d\\)) (\\d\\d\\d\\d\\d\\d\\d)')\n",
    "mo = phoneNumRegex.search(r'My phone number is (415) 5554242.')\n",
    "mo.group()"
   ]
  },
  {
   "cell_type": "code",
   "execution_count": 4,
   "metadata": {},
   "outputs": [
    {
     "name": "stdout",
     "output_type": "stream",
     "text": [
      "(415) 5554\\242\n"
     ]
    }
   ],
   "source": [
    "#模板不寫r的情況下，你要表達string裡面的\\\\，那每個前面都要加轉義，那就會變成\\\\\\\\\n",
    "import re\n",
    "phoneNumRegex = re.compile('(\\(\\d\\d\\d\\)) (\\d\\d\\d\\d\\\\\\\\\\d\\d\\d)')\n",
    "mo = phoneNumRegex.search(r'My phone number is (415) 5554\\242.')\n",
    "print(mo.group())"
   ]
  },
  {
   "cell_type": "code",
   "execution_count": 5,
   "metadata": {},
   "outputs": [
    {
     "name": "stdout",
     "output_type": "stream",
     "text": [
      "(415) 5554\\242\n"
     ]
    }
   ],
   "source": [
    "#寫了r，\\\\就夠了\n",
    "import re\n",
    "phoneNumRegex = re.compile(r'(\\(\\d\\d\\d\\)) (\\d\\d\\d\\d\\\\\\d\\d\\d)')\n",
    "mo = phoneNumRegex.search(r'My phone number is (415) 5554\\242.')\n",
    "print(mo.group())"
   ]
  },
  {
   "cell_type": "markdown",
   "metadata": {},
   "source": [
    "### <span style=\"color:red \">pipe符號 | -挑選其1"
   ]
  },
  {
   "cell_type": "code",
   "execution_count": 6,
   "metadata": {},
   "outputs": [
    {
     "data": {
      "text/plain": [
       "'Batman'"
      ]
     },
     "execution_count": 6,
     "metadata": {},
     "output_type": "execute_result"
    }
   ],
   "source": [
    "#請注意，re也可以接受字串的搜尋，如下面\n",
    "heroRegex = re.compile (r'Batman|Tina Fey')\n",
    "mo1 = heroRegex.search('Batman and Tina Fey.')\n",
    "mo1.group()"
   ]
  },
  {
   "cell_type": "code",
   "execution_count": 7,
   "metadata": {},
   "outputs": [
    {
     "data": {
      "text/plain": [
       "'Tina Fey'"
      ]
     },
     "execution_count": 7,
     "metadata": {},
     "output_type": "execute_result"
    }
   ],
   "source": [
    "mo2 = heroRegex.search('Tina Fey and Batman.')\n",
    "mo2.group()"
   ]
  },
  {
   "cell_type": "markdown",
   "metadata": {},
   "source": [
    "### <span style=\"color:red \">如果你一次要找到 'Batman','Batmobile', 'Batcopter', and 'Batbat'..."
   ]
  },
  {
   "cell_type": "code",
   "execution_count": 5,
   "metadata": {},
   "outputs": [],
   "source": [
    "batRegex = re.compile(r'Bat(man|mobile|copter|bat)')\n",
    "mo = batRegex.search('Batmobile lost a wheel')"
   ]
  },
  {
   "cell_type": "code",
   "execution_count": 9,
   "metadata": {},
   "outputs": [
    {
     "data": {
      "text/plain": [
       "'Batmobile'"
      ]
     },
     "execution_count": 9,
     "metadata": {},
     "output_type": "execute_result"
    }
   ],
   "source": [
    "mo.group()"
   ]
  },
  {
   "cell_type": "code",
   "execution_count": 10,
   "metadata": {},
   "outputs": [
    {
     "data": {
      "text/plain": [
       "'mobile'"
      ]
     },
     "execution_count": 10,
     "metadata": {},
     "output_type": "execute_result"
    }
   ],
   "source": [
    "mo.group(1)"
   ]
  },
  {
   "cell_type": "markdown",
   "metadata": {},
   "source": [
    "### <span style=\"color:red \">?的用法-有或沒有都要\n",
    "----\n",
    "    問號前面的群組，有或沒有都會篩出來"
   ]
  },
  {
   "cell_type": "code",
   "execution_count": 7,
   "metadata": {},
   "outputs": [
    {
     "data": {
      "text/plain": [
       "'Batman'"
      ]
     },
     "execution_count": 7,
     "metadata": {},
     "output_type": "execute_result"
    }
   ],
   "source": [
    "batRegex = re.compile(r'Bat(wo)?man')\n",
    "mo1 = batRegex.search('The Adventures of Batman')\n",
    "mo1.group()"
   ]
  },
  {
   "cell_type": "code",
   "execution_count": 12,
   "metadata": {},
   "outputs": [
    {
     "data": {
      "text/plain": [
       "'wo'"
      ]
     },
     "execution_count": 12,
     "metadata": {},
     "output_type": "execute_result"
    }
   ],
   "source": [
    "mo2 = batRegex.search('The Adventures of Batwoman')\n",
    "mo2.group()"
   ]
  },
  {
   "cell_type": "markdown",
   "metadata": {},
   "source": [
    "### <span style=\"color:red \"><小插曲>針對上面的mo2.group()，請輸入0和1，想想，這是什麼?"
   ]
  },
  {
   "cell_type": "code",
   "execution_count": 10,
   "metadata": {
    "scrolled": true
   },
   "outputs": [
    {
     "ename": "NameError",
     "evalue": "name 'mo2' is not defined",
     "output_type": "error",
     "traceback": [
      "\u001b[1;31m---------------------------------------------------------------------------\u001b[0m",
      "\u001b[1;31mNameError\u001b[0m                                 Traceback (most recent call last)",
      "\u001b[1;32m<ipython-input-10-13df3b5de8c7>\u001b[0m in \u001b[0;36m<module>\u001b[1;34m\u001b[0m\n\u001b[1;32m----> 1\u001b[1;33m \u001b[0mmo2\u001b[0m\u001b[1;33m.\u001b[0m\u001b[0mgroup\u001b[0m\u001b[1;33m(\u001b[0m\u001b[1;36m0\u001b[0m\u001b[1;33m)\u001b[0m\u001b[1;33m\u001b[0m\u001b[1;33m\u001b[0m\u001b[0m\n\u001b[0m",
      "\u001b[1;31mNameError\u001b[0m: name 'mo2' is not defined"
     ]
    }
   ],
   "source": [
    "mo2.group()"
   ]
  },
  {
   "cell_type": "markdown",
   "metadata": {},
   "source": [
    "## <span style=\"color:red \"><小測驗>請幫我把電話篩出來\n",
    "```\n",
    "    有兩段文字如下\n",
    "    \"My number is 415-555-4242\"\n",
    "    \"My number is 555-4242\"\n",
    "    請幫我設計一段正則表達式，套上兩段文字，都可以篩出電話。\n",
    "```\n"
   ]
  },
  {
   "cell_type": "code",
   "execution_count": null,
   "metadata": {},
   "outputs": [],
   "source": [
    "import re\n",
    "phoneRegex = re.compile(\"請填入你的設計模式\")\n",
    "mo1 = phoneRegex.search('My number is 415-555-4242')\n",
    "mo1.group()\n",
    "mo2 = phoneRegex.search('My number is 555-4242')\n",
    "mo2.group()"
   ]
  },
  {
   "cell_type": "markdown",
   "metadata": {},
   "source": [
    "### <span style=\"color:red \"><答案>"
   ]
  },
  {
   "cell_type": "code",
   "execution_count": 1,
   "metadata": {},
   "outputs": [
    {
     "data": {
      "text/plain": [
       "'415-555-4242'"
      ]
     },
     "execution_count": 1,
     "metadata": {},
     "output_type": "execute_result"
    }
   ],
   "source": [
    "import re\n",
    "phoneRegex = re.compile(r'(\\d\\d\\d-)?\\d\\d\\d-\\d\\d\\d\\d')\n",
    "mo1 = phoneRegex.search('My number is 415-555-4242')\n",
    "mo1.group()"
   ]
  },
  {
   "cell_type": "code",
   "execution_count": null,
   "metadata": {},
   "outputs": [],
   "source": [
    "#沒有帶區號，你一樣可以找出來\n",
    "mo2 = phoneRegex.search('My number is 555-4242')\n",
    "mo2.group()"
   ]
  },
  {
   "cell_type": "markdown",
   "metadata": {},
   "source": [
    "### <span style=\"color:red \">*號的用法-「從0次開始」都要(一直到出現很多次)"
   ]
  },
  {
   "cell_type": "code",
   "execution_count": 9,
   "metadata": {},
   "outputs": [
    {
     "data": {
      "text/plain": [
       "'Batman'"
      ]
     },
     "execution_count": 9,
     "metadata": {},
     "output_type": "execute_result"
    }
   ],
   "source": [
    "batRegex = re.compile(r'Bat(wo)*man')\n",
    "mo1 = batRegex.search('The Adventures of Batman')\n",
    "mo1.group()"
   ]
  },
  {
   "cell_type": "code",
   "execution_count": 53,
   "metadata": {},
   "outputs": [
    {
     "data": {
      "text/plain": [
       "'Batwoman'"
      ]
     },
     "execution_count": 53,
     "metadata": {},
     "output_type": "execute_result"
    }
   ],
   "source": [
    "mo2 = batRegex.search('The Adventures of Batwoman')\n",
    "mo2.group()"
   ]
  },
  {
   "cell_type": "code",
   "execution_count": 54,
   "metadata": {},
   "outputs": [
    {
     "data": {
      "text/plain": [
       "'Batwowowowoman'"
      ]
     },
     "execution_count": 54,
     "metadata": {},
     "output_type": "execute_result"
    }
   ],
   "source": [
    "mo3 = batRegex.search('The Adventures of Batwowowowoman')\n",
    "mo3.group()"
   ]
  },
  {
   "cell_type": "markdown",
   "metadata": {},
   "source": [
    "### <span style=\"color:red \">+號的用法-如果你是「至少一次」才要"
   ]
  },
  {
   "cell_type": "code",
   "execution_count": null,
   "metadata": {},
   "outputs": [],
   "source": [
    "batRegex = re.compile(r'Bat(wo)+man')\n",
    "mo1 = batRegex.search('The Adventures of Batwoman')\n",
    "mo1.group()"
   ]
  },
  {
   "cell_type": "code",
   "execution_count": null,
   "metadata": {},
   "outputs": [],
   "source": [
    "mo3 = batRegex.search('The Adventures of Batman')\n",
    "print(mo3)"
   ]
  },
  {
   "cell_type": "markdown",
   "metadata": {},
   "source": [
    "### <span style=\"color:red \">如果你希望pattern可以重複某個次數...\n",
    "---\n",
    "```\n",
    "    (Ha){3}\n",
    "    (Ha)(Ha)(Ha)\n",
    "    \n",
    "    (Ha){3,5}\n",
    "    ((Ha)(Ha)(Ha))|((Ha)(Ha)(Ha)(Ha))|((Ha)(Ha)(Ha)(Ha)(Ha))\n",
    "\n",
    "```"
   ]
  },
  {
   "cell_type": "code",
   "execution_count": 3,
   "metadata": {},
   "outputs": [
    {
     "data": {
      "text/plain": [
       "'HaHaHa'"
      ]
     },
     "execution_count": 3,
     "metadata": {},
     "output_type": "execute_result"
    }
   ],
   "source": [
    "haRegex = re.compile(r'(Ha){3}')\n",
    "mo1 = haRegex.search('HaHaHa')\n",
    "mo1.group()"
   ]
  },
  {
   "cell_type": "code",
   "execution_count": 4,
   "metadata": {},
   "outputs": [
    {
     "data": {
      "text/plain": [
       "True"
      ]
     },
     "execution_count": 4,
     "metadata": {},
     "output_type": "execute_result"
    }
   ],
   "source": [
    "mo2 = haRegex.search('Ha')\n",
    "mo2 == None"
   ]
  },
  {
   "cell_type": "code",
   "execution_count": 98,
   "metadata": {},
   "outputs": [
    {
     "data": {
      "text/plain": [
       "'HaHaHaHaHa'"
      ]
     },
     "execution_count": 98,
     "metadata": {},
     "output_type": "execute_result"
    }
   ],
   "source": [
    "greedyHaRegex = re.compile(r'(Ha){3,5}')\n",
    "mo1 = greedyHaRegex.search('HaHaHaHaHa')\n",
    "mo1.group()"
   ]
  },
  {
   "cell_type": "markdown",
   "metadata": {},
   "source": [
    "### <span style=\"color:red \">你有沒有覺得上面很奇怪，為什麼不是HaHaHa(第一個模式就符合了啊!!)，是HaHaHaHaHa。"
   ]
  },
  {
   "cell_type": "markdown",
   "metadata": {},
   "source": [
    "### <span style=\"color:red \">因為Python’s regular expressions的default值是貪婪模式(greedy)\n",
    "----\n",
    "    \n",
    "    簡單的說，如果碰到多種模式都符合的時候，python會給你最多最滿的那一個。"
   ]
  },
  {
   "cell_type": "markdown",
   "metadata": {},
   "source": [
    "### <span style=\"color:red \">有貪婪模式(greedy)，就有懶惰模式(lazy)-一樣用?號\n",
    "----\n",
    "    \n",
    "    簡單的說，如果碰到多種模式都符合的時候，只給你最少的那一個(就是最低符合標準啦!)"
   ]
  },
  {
   "cell_type": "code",
   "execution_count": null,
   "metadata": {},
   "outputs": [],
   "source": [
    "#懶惰模式啟動\n",
    "nongreedyHaRegex = re.compile(r'(Ha){3,5}?')\n",
    "mo2 = nongreedyHaRegex.search('HaHaHaHaHa')\n",
    "mo2.group()"
   ]
  },
  {
   "cell_type": "markdown",
   "metadata": {},
   "source": [
    "### 整理一下:\n",
    "\n",
    " 請看W3school\n",
    "```\n",
    "1. r\"([A-Z+]?)\\,\"  =>?號代表「沒有沒關係，最多一次」==>簡單的說就是 0和1 有和沒有\n",
    "2. r\"([A-Z+]*)\\,\"  =>*號代表「沒有也沒關係」        ==>簡單的說就是 0到∞ \n",
    "3. r\"([A-Z+]+)\\,\"  =>+號代表「至少要有一次」        ==>簡單的說就是 1到∞ \n",
    "\n",
    "\n",
    "```"
   ]
  },
  {
   "cell_type": "markdown",
   "metadata": {},
   "source": [
    "### <span style=\"color:red \">findall() Method\n",
    "----\n",
    "    \n",
    "    search()只會給你找到的第一個，如果你要找全部...要用findall()\n",
    "    但是findall()返回值不太一樣，\n",
    "    findall() method will return the strings of every match in the searched string."
   ]
  },
  {
   "cell_type": "code",
   "execution_count": 17,
   "metadata": {},
   "outputs": [
    {
     "data": {
      "text/plain": [
       "'415-555-9999'"
      ]
     },
     "execution_count": 17,
     "metadata": {},
     "output_type": "execute_result"
    }
   ],
   "source": [
    "phoneNumRegex = re.compile(r'\\d\\d\\d-\\d\\d\\d-\\d\\d\\d\\d')\n",
    "mo = phoneNumRegex.search('Cell: 415-555-9999 Work: 212-555-0000')\n",
    "mo.group()"
   ]
  },
  {
   "cell_type": "code",
   "execution_count": 18,
   "metadata": {},
   "outputs": [
    {
     "data": {
      "text/plain": [
       "['415-555-9999', '212-555-0000']"
      ]
     },
     "execution_count": 18,
     "metadata": {},
     "output_type": "execute_result"
    }
   ],
   "source": [
    "phoneNumRegex = re.compile(r'\\d\\d\\d-\\d\\d\\d-\\d\\d\\d\\d')\n",
    "phoneNumRegex.findall('Cell: 415-555-9999 Work: 212-555-0000')\n"
   ]
  },
  {
   "cell_type": "code",
   "execution_count": 88,
   "metadata": {},
   "outputs": [
    {
     "data": {
      "text/plain": [
       "[('415', '555', '9999'), ('212', '555', '0000')]"
      ]
     },
     "execution_count": 88,
     "metadata": {},
     "output_type": "execute_result"
    }
   ],
   "source": [
    "#If there are groups in the regular expression, then findall() will return a list of tuples.\n",
    "#如果你的模板是有條件設定的，那findall會回你tuple，依照條件分開\n",
    "phoneNumRegex = re.compile(r'(\\d\\d\\d)-(\\d\\d\\d)-(\\d\\d\\d\\d)') \n",
    "phoneNumRegex.findall('Cell: 415-555-9999 Work: 212-555-0000')"
   ]
  },
  {
   "cell_type": "markdown",
   "metadata": {},
   "source": [
    "# <span style=\"color:red \">接著聊一下字元族-Character Classes\n",
    "----\n",
    "    你有想過\\d，就可以代表數字，是因為re已經幫你把它轉成(0|1|2|3|4|5|6|7|8|9)\n",
    "----\n",
    "    [0-5]=>(0|1|2|3|4|5)"
   ]
  },
  {
   "cell_type": "markdown",
   "metadata": {},
   "source": [
    "## [了解一下字元族](https://www.w3schools.com/python/python_regex.asp)"
   ]
  },
  {
   "cell_type": "markdown",
   "metadata": {},
   "source": [
    "### <span style=\"color:red \"><小測驗>想一下下面是什麼意思?\n",
    "----\n",
    "# re.compile(r'\\d+\\s\\w+')"
   ]
  },
  {
   "cell_type": "markdown",
   "metadata": {},
   "source": [
    "### <span style=\"color:red \"><答案>\n",
    "-----\n",
    "  ##  1. \\d+  =>只要數字  出現幾次不管\n",
    "  ##  2. \\s   =>要有一個空格\n",
    "  ##  3. \\w+  =>數字、文字、_都可以，出現幾次不管"
   ]
  },
  {
   "cell_type": "code",
   "execution_count": 5,
   "metadata": {},
   "outputs": [],
   "source": [
    "import re\n",
    "xmasRegex = re.compile(r'\\d+\\s\\w+')"
   ]
  },
  {
   "cell_type": "code",
   "execution_count": 6,
   "metadata": {},
   "outputs": [
    {
     "data": {
      "text/plain": [
       "['12 drummers',\n",
       " '11 pipers',\n",
       " '10 lords',\n",
       " '9 ladies',\n",
       " '6 geese',\n",
       " '5 889',\n",
       " '4 _',\n",
       " '3 hens',\n",
       " '2 doves',\n",
       " '1001 partridge']"
      ]
     },
     "execution_count": 6,
     "metadata": {},
     "output_type": "execute_result"
    }
   ],
   "source": [
    "xmasRegex.findall('12 drummers, 11 pipers, 10 lords, 9 ladies, 8 , 796, 6 geese, 5 889, 4 _, 3 hens, 2 doves, 1001 partridge')"
   ]
  },
  {
   "cell_type": "markdown",
   "metadata": {},
   "source": [
    "# <span style=\"color:red \">你可能想要自訂自己的選擇模型-請用[ ]\n",
    "----\n",
    " ###    [aeiouAEIOU]"
   ]
  },
  {
   "cell_type": "code",
   "execution_count": 101,
   "metadata": {},
   "outputs": [
    {
     "data": {
      "text/plain": [
       "['o', 'o', 'o', 'e', 'a', 'a', 'o', 'o', 'A', 'O', 'O']"
      ]
     },
     "execution_count": 101,
     "metadata": {},
     "output_type": "execute_result"
    }
   ],
   "source": [
    "#你會發現，一個\"不成串\"的正則表達式會對每個字母進行篩選\n",
    "vowelRegex = re.compile(r'[aeiouAEIOU]')\n",
    "vowelRegex.findall('RoboCop eats baby food. BABY FOOD.')"
   ]
  },
  {
   "cell_type": "markdown",
   "metadata": {},
   "source": [
    "## <span style=\"color:red \">如果你是想要選一個區間\n",
    "-----\n",
    " ###   1. [a-zA-Z0-9]\n",
    " ###   <span style=\"color:red \">2. 要加入 . , *  ? ( ) 等符號不用轉義\n",
    " ###   3. 用^(插入符號、插入符,Caret)就可以挑反面\n",
    "    "
   ]
  },
  {
   "cell_type": "code",
   "execution_count": 106,
   "metadata": {},
   "outputs": [
    {
     "data": {
      "text/plain": [
       "['o', 'o', 'o', 'e', 'a', '(', ')', 'a', ',', 'o', 'o', '.', 'A', '.']"
      ]
     },
     "execution_count": 106,
     "metadata": {},
     "output_type": "execute_result"
    }
   ],
   "source": [
    "vowelRegex = re.compile(r'[aeiouA,.()]')\n",
    "vowelRegex.findall('RoboCop eats() bab,y food. BABY FOOD.')"
   ]
  },
  {
   "cell_type": "code",
   "execution_count": 108,
   "metadata": {},
   "outputs": [
    {
     "data": {
      "text/plain": [
       "['ea', '()', 'oo']"
      ]
     },
     "execution_count": 108,
     "metadata": {},
     "output_type": "execute_result"
    }
   ],
   "source": [
    "#你也可以加上重複的次數\n",
    "vowelRegex = re.compile(r'[aeiouA,.()]{2}')\n",
    "vowelRegex.findall('RoboCop eats() bab,y food. BABY FOOD.')"
   ]
  },
  {
   "cell_type": "code",
   "execution_count": 111,
   "metadata": {},
   "outputs": [
    {
     "data": {
      "text/plain": [
       "['R',\n",
       " 'b',\n",
       " 'C',\n",
       " 'p',\n",
       " ' ',\n",
       " 't',\n",
       " 's',\n",
       " ' ',\n",
       " 'b',\n",
       " 'b',\n",
       " 'y',\n",
       " ' ',\n",
       " 'f',\n",
       " 'd',\n",
       " ' ',\n",
       " 'B',\n",
       " 'B',\n",
       " 'Y',\n",
       " ' ',\n",
       " 'F',\n",
       " 'O',\n",
       " 'O',\n",
       " 'D']"
      ]
     },
     "execution_count": 111,
     "metadata": {},
     "output_type": "execute_result"
    }
   ],
   "source": [
    "#請特別注意和row format的 ^比較一下，下面有案例  re.compile(r'^Hello')\n",
    "#這是條件反面，下面是字串開頭\n",
    "vowelRegex = re.compile(r'[^aeiouA,.()]')\n",
    "vowelRegex.findall('RoboCop eats() bab,y food. BABY FOOD.')"
   ]
  },
  {
   "cell_type": "markdown",
   "metadata": {},
   "source": [
    "# <span style=\"color:red \">如果你要特別要求開始和結尾-  ^ 和  $  的用法 "
   ]
  },
  {
   "cell_type": "markdown",
   "metadata": {},
   "source": [
    "### <span style=\"color:red \"> ^ 要求你開頭就是要這個string "
   ]
  },
  {
   "cell_type": "code",
   "execution_count": 110,
   "metadata": {},
   "outputs": [
    {
     "data": {
      "text/plain": [
       "'Hello'"
      ]
     },
     "execution_count": 110,
     "metadata": {},
     "output_type": "execute_result"
    }
   ],
   "source": [
    "beginsWithHello = re.compile(r'^Hello')\n",
    "beginsWithHello.search('Hello, world!').group()"
   ]
  },
  {
   "cell_type": "markdown",
   "metadata": {},
   "source": [
    "### <span style=\"color:red \"> $ 要求你結尾就是要這個string "
   ]
  },
  {
   "cell_type": "code",
   "execution_count": 112,
   "metadata": {},
   "outputs": [
    {
     "data": {
      "text/plain": [
       "'Hello'"
      ]
     },
     "execution_count": 112,
     "metadata": {},
     "output_type": "execute_result"
    }
   ],
   "source": [
    "beginsWithHello = re.compile(r'Hello$')\n",
    "beginsWithHello.search('Hello, world Hello').group()"
   ]
  },
  {
   "cell_type": "markdown",
   "metadata": {},
   "source": [
    "### <span style=\"color:red \"> ^和$-一起用就是要全部符合"
   ]
  },
  {
   "cell_type": "code",
   "execution_count": null,
   "metadata": {},
   "outputs": [],
   "source": [
    "#挑不到\n",
    "beginsWithHello = re.compile(r'^Hello$')\n",
    "beginsWithHello.search('Hello, world Hello')"
   ]
  },
  {
   "cell_type": "code",
   "execution_count": null,
   "metadata": {},
   "outputs": [],
   "source": [
    "beginsWithHello = re.compile(r'^Hello$')\n",
    "beginsWithHello.search('Hello')"
   ]
  },
  {
   "cell_type": "markdown",
   "metadata": {},
   "source": [
    "### <span style=\"color:red \"> <範例1>"
   ]
  },
  {
   "cell_type": "code",
   "execution_count": 113,
   "metadata": {},
   "outputs": [
    {
     "data": {
      "text/plain": [
       "<re.Match object; span=(16, 17), match='2'>"
      ]
     },
     "execution_count": 113,
     "metadata": {},
     "output_type": "execute_result"
    }
   ],
   "source": [
    "endsWithNumber = re.compile(r'\\d$')\n",
    "endsWithNumber.search('Your number is 42')"
   ]
  },
  {
   "cell_type": "code",
   "execution_count": 114,
   "metadata": {},
   "outputs": [
    {
     "data": {
      "text/plain": [
       "True"
      ]
     },
     "execution_count": 114,
     "metadata": {},
     "output_type": "execute_result"
    }
   ],
   "source": [
    "endsWithNumber.search('Your number is forty two.')== None"
   ]
  },
  {
   "cell_type": "markdown",
   "metadata": {},
   "source": [
    "### <span style=\"color:red \"> <範例2>"
   ]
  },
  {
   "cell_type": "code",
   "execution_count": 115,
   "metadata": {},
   "outputs": [
    {
     "data": {
      "text/plain": [
       "<re.Match object; span=(0, 10), match='1234567890'>"
      ]
     },
     "execution_count": 115,
     "metadata": {},
     "output_type": "execute_result"
    }
   ],
   "source": [
    "wholeStringIsNum = re.compile(r'^\\d+$')\n",
    "wholeStringIsNum.search('1234567890')"
   ]
  },
  {
   "cell_type": "code",
   "execution_count": 116,
   "metadata": {},
   "outputs": [
    {
     "data": {
      "text/plain": [
       "True"
      ]
     },
     "execution_count": 116,
     "metadata": {},
     "output_type": "execute_result"
    }
   ],
   "source": [
    "#找不到\n",
    "wholeStringIsNum.search('12345xyz67890') == None"
   ]
  },
  {
   "cell_type": "code",
   "execution_count": 117,
   "metadata": {},
   "outputs": [
    {
     "data": {
      "text/plain": [
       "True"
      ]
     },
     "execution_count": 117,
     "metadata": {},
     "output_type": "execute_result"
    }
   ],
   "source": [
    "#找不到\n",
    "wholeStringIsNum.search('12 34567890') == None"
   ]
  },
  {
   "cell_type": "markdown",
   "metadata": {},
   "source": [
    "# <span style=\"color:red \">外卡符號 . -Wildcard Character\n",
    "----\n",
    "   可以代表任何字符（換行符\\n除外）"
   ]
  },
  {
   "cell_type": "code",
   "execution_count": 40,
   "metadata": {},
   "outputs": [
    {
     "data": {
      "text/plain": [
       "['cat', 'hat', 'sat', 'lat', 'Mat']"
      ]
     },
     "execution_count": 40,
     "metadata": {},
     "output_type": "execute_result"
    }
   ],
   "source": [
    "atRegex = re.compile(r'.at')\n",
    "atRegex.findall('The cat in the hat sat on the flat Mat.')"
   ]
  },
  {
   "cell_type": "markdown",
   "metadata": {},
   "source": [
    "## <span style=\"color:red \"><小插曲>如果你看到有人寫的搜尋模式是 .+ 請問一下，這是什麼意思"
   ]
  },
  {
   "cell_type": "code",
   "execution_count": 44,
   "metadata": {},
   "outputs": [
    {
     "data": {
      "text/plain": [
       "['The cat in the hat sat on the flat mat.']"
      ]
     },
     "execution_count": 44,
     "metadata": {},
     "output_type": "execute_result"
    }
   ],
   "source": [
    "atRegex = re.compile(r'.+')\n",
    "atRegex.findall('The cat in the hat sat on the flat mat.')"
   ]
  },
  {
   "cell_type": "markdown",
   "metadata": {},
   "source": [
    "# <span style=\"color:red \">萬物符號 .* -Matching Everything with Dot-Star\n",
    "----"
   ]
  },
  {
   "cell_type": "code",
   "execution_count": 42,
   "metadata": {},
   "outputs": [
    {
     "data": {
      "text/plain": [
       "'Sweigart'"
      ]
     },
     "execution_count": 42,
     "metadata": {},
     "output_type": "execute_result"
    }
   ],
   "source": [
    "nameRegex = re.compile(r'First Name: (.*) Last Name: (.*)')\n",
    "mo = nameRegex.search('First Name: A123 Last Name: Sweigart')\n",
    "mo.group(2)"
   ]
  },
  {
   "cell_type": "code",
   "execution_count": 43,
   "metadata": {},
   "outputs": [
    {
     "data": {
      "text/plain": [
       "'A123'"
      ]
     },
     "execution_count": 43,
     "metadata": {},
     "output_type": "execute_result"
    }
   ],
   "source": [
    "#外卡只能代表字母\n",
    "mo.group(1)"
   ]
  },
  {
   "cell_type": "markdown",
   "metadata": {},
   "source": [
    "## <span style=\"color:red \">特殊案例"
   ]
  },
  {
   "cell_type": "code",
   "execution_count": 19,
   "metadata": {},
   "outputs": [
    {
     "data": {
      "text/plain": [
       "' Al Last Name: Sweigart afafa dsdv sdsdgv First Name: Al'"
      ]
     },
     "execution_count": 19,
     "metadata": {},
     "output_type": "execute_result"
    }
   ],
   "source": [
    "#如果目標裡面有重複的狀況，會出現什麼事?\n",
    "nameRegex = re.compile(r'First Name:(.*) Last Name: (.*)')\n",
    "mo = nameRegex.search('First Name: Al Last Name: Sweigart afafa dsdv sdsdgv First Name: Al Last Name: Sweigart afafa dsdv sdsdgv')\n",
    "mo.group(1)"
   ]
  },
  {
   "cell_type": "code",
   "execution_count": 20,
   "metadata": {},
   "outputs": [
    {
     "data": {
      "text/plain": [
       "'Sweigart afafa dsdv sdsdgv'"
      ]
     },
     "execution_count": 20,
     "metadata": {},
     "output_type": "execute_result"
    }
   ],
   "source": [
    "mo.group(2)"
   ]
  },
  {
   "cell_type": "code",
   "execution_count": 47,
   "metadata": {},
   "outputs": [
    {
     "data": {
      "text/plain": [
       "(' Al Last Name: Sweigart afafa dsdv sdsdgv First Name: Al',\n",
       " 'Sweigart afafa dsdv sdsdgv')"
      ]
     },
     "execution_count": 47,
     "metadata": {},
     "output_type": "execute_result"
    }
   ],
   "source": [
    "mo.groups()"
   ]
  },
  {
   "cell_type": "markdown",
   "metadata": {},
   "source": [
    "## <span style=\"color:red \">這是貪婪模式的運作結果，那該怎麼辦?"
   ]
  },
  {
   "cell_type": "markdown",
   "metadata": {},
   "source": [
    "# <span style=\"color:red \"><小插曲>當萬物符號 .* 碰到?是什麼意思===>也就是 .*?是什麼意思"
   ]
  },
  {
   "cell_type": "code",
   "execution_count": 124,
   "metadata": {},
   "outputs": [
    {
     "data": {
      "text/plain": [
       "'<To serve man> for dinner.>'"
      ]
     },
     "execution_count": 124,
     "metadata": {},
     "output_type": "execute_result"
    }
   ],
   "source": [
    "nongreedyRegex = re.compile(r'<.*>')\n",
    "mo = nongreedyRegex.search('<To serve man> for dinner.>')\n",
    "mo.group()"
   ]
  },
  {
   "cell_type": "code",
   "execution_count": 127,
   "metadata": {},
   "outputs": [
    {
     "data": {
      "text/plain": [
       "'<To serve man>'"
      ]
     },
     "execution_count": 127,
     "metadata": {},
     "output_type": "execute_result"
    }
   ],
   "source": [
    "#加了問號就是懶惰模式，達到最低標準就好\n",
    "\n",
    "nongreedyRegex = re.compile(r'<.*?>')\n",
    "mo = nongreedyRegex.search('<To serve man> for dinner.>')\n",
    "mo.group()"
   ]
  },
  {
   "cell_type": "markdown",
   "metadata": {},
   "source": [
    "### <span style=\"color:red \"><小測驗>前面的狀況，幫忙調整一下"
   ]
  },
  {
   "cell_type": "code",
   "execution_count": 48,
   "metadata": {},
   "outputs": [],
   "source": [
    "nameRegex = re.compile(r'First Name:(.*) Last Name: (.*)')\n",
    "mo = nameRegex.search('''First Name: Al Last Name: Sweigart afafa dsdv sdsdgv First Name: Al\n",
    "                         Last Name: Sweigart afafa dsdv sdsdgv''')"
   ]
  },
  {
   "cell_type": "markdown",
   "metadata": {},
   "source": [
    "### <span style=\"color:red \"><答案>"
   ]
  },
  {
   "cell_type": "code",
   "execution_count": 49,
   "metadata": {},
   "outputs": [
    {
     "data": {
      "text/plain": [
       "' Al'"
      ]
     },
     "execution_count": 49,
     "metadata": {},
     "output_type": "execute_result"
    }
   ],
   "source": [
    "#如果目標裡面有重複的狀況，會出現什麼事?\n",
    "nameRegex = re.compile(r'First Name:(.*?) Last Name: (.*)')\n",
    "mo = nameRegex.search('First Name: Al Last Name: Sweigart afafa dsdv sdsdgv First Name: Al Last Name: Sweigart afafa dsdv sdsdgv')\n",
    "mo.group(1)"
   ]
  },
  {
   "cell_type": "markdown",
   "metadata": {},
   "source": [
    "# <span style=\"color:red \">有時候，你不想要管大小寫的問題\n",
    "----\n",
    "## [尋找編譯標誌](https://note.artchiu.org/2015/01/23/%E6%AF%94%E8%BC%83%E8%A9%B3%E7%B4%B0-python-%E6%AD%A3%E5%89%87%E8%A1%A8%E9%81%94%E5%BC%8F%E6%93%8D%E4%BD%9C%E6%8C%87%E5%8D%97-re%E4%BD%BF%E7%94%A8/)"
   ]
  },
  {
   "cell_type": "code",
   "execution_count": 128,
   "metadata": {},
   "outputs": [
    {
     "data": {
      "text/plain": [
       "'RoboCop'"
      ]
     },
     "execution_count": 128,
     "metadata": {},
     "output_type": "execute_result"
    }
   ],
   "source": [
    "#加上re.I的篩選器，大小寫都通吃\n",
    "robocop = re.compile(r'robocop', re.I)\n",
    "robocop.search('RoboCop is part man, part machine, all cop.').group()"
   ]
  },
  {
   "cell_type": "code",
   "execution_count": 129,
   "metadata": {},
   "outputs": [
    {
     "data": {
      "text/plain": [
       "'ROBOCOP'"
      ]
     },
     "execution_count": 129,
     "metadata": {},
     "output_type": "execute_result"
    }
   ],
   "source": [
    "#一樣篩得出來\n",
    "robocop.search('ROBOCOP protects the innocent.').group()"
   ]
  },
  {
   "cell_type": "code",
   "execution_count": 130,
   "metadata": {},
   "outputs": [
    {
     "data": {
      "text/plain": [
       "'robocop'"
      ]
     },
     "execution_count": 130,
     "metadata": {},
     "output_type": "execute_result"
    }
   ],
   "source": [
    "#一樣篩得出來\n",
    "robocop.search('Al, why does your programming book talk about robocop so much?').group()"
   ]
  },
  {
   "cell_type": "markdown",
   "metadata": {},
   "source": [
    "# <span style=\"color:red \">re不只可以找到模式發生的地方，還可以替代"
   ]
  },
  {
   "cell_type": "code",
   "execution_count": 50,
   "metadata": {},
   "outputs": [
    {
     "data": {
      "text/plain": [
       "'CENSORED gave the secret documents to CENSORED.'"
      ]
     },
     "execution_count": 50,
     "metadata": {},
     "output_type": "execute_result"
    }
   ],
   "source": [
    "#利用.sub，就可以替代目標區塊\n",
    "namesRegex = re.compile(r'Agent \\w+')\n",
    "namesRegex.sub('CENSORED', 'Agent Alice gave the secret documents to Agent Bob.')"
   ]
  },
  {
   "cell_type": "code",
   "execution_count": 51,
   "metadata": {},
   "outputs": [
    {
     "data": {
      "text/plain": [
       "'A**** told C**** that E**** knew B**** was a double agent.'"
      ]
     },
     "execution_count": 51,
     "metadata": {},
     "output_type": "execute_result"
    }
   ],
   "source": [
    "#利用\\1代表Group1的結果\n",
    "#所以顯示A****\n",
    "agentNamesRegex = re.compile(r'Agent (\\w)\\w*')\n",
    "agentNamesRegex.sub(r'\\1****', 'Agent Alice told Agent Carol that Agent Eve knew Agent Bob was a double agent.')"
   ]
  },
  {
   "cell_type": "markdown",
   "metadata": {},
   "source": [
    "# <span style=\"color:red \"><程序案例講解>\n",
    "----\n",
    "    你知道光複製一個動作(ctrl-c)，就可以讓我們開始分析資料"
   ]
  },
  {
   "cell_type": "code",
   "execution_count": 53,
   "metadata": {},
   "outputs": [
    {
     "name": "stdout",
     "output_type": "stream",
     "text": [
      "Collecting pyperclip\n",
      "  Downloading pyperclip-1.8.2.tar.gz (20 kB)\n",
      "Building wheels for collected packages: pyperclip\n",
      "  Building wheel for pyperclip (setup.py): started\n",
      "  Building wheel for pyperclip (setup.py): finished with status 'done'\n",
      "  Created wheel for pyperclip: filename=pyperclip-1.8.2-py3-none-any.whl size=11112 sha256=8e7995547529bd882cbaec0258df98ba7f951c2879c5867a1dda1236ba5fa4f9\n",
      "  Stored in directory: c:\\users\\linkindman\\appdata\\local\\pip\\cache\\wheels\\7f\\1a\\65\\84ff8c386bec21fca6d220ea1f5498a0367883a78dd5ba6122\n",
      "Successfully built pyperclip\n",
      "Installing collected packages: pyperclip\n",
      "Successfully installed pyperclip-1.8.2\n"
     ]
    },
    {
     "name": "stderr",
     "output_type": "stream",
     "text": [
      "WARNING: You are using pip version 21.0.1; however, version 21.1 is available.\n",
      "You should consider upgrading via the 'c:\\users\\linkindman\\anaconda3\\python.exe -m pip install --upgrade pip' command.\n"
     ]
    }
   ],
   "source": [
    "!pip install pyperclip"
   ]
  },
  {
   "cell_type": "code",
   "execution_count": 21,
   "metadata": {},
   "outputs": [],
   "source": [
    "import pyperclip, re"
   ]
  },
  {
   "cell_type": "code",
   "execution_count": 22,
   "metadata": {},
   "outputs": [],
   "source": [
    "phoneRegex = re.compile(r'''(\n",
    "(\\d{3}|\\(\\d{3}\\))?             # area code\n",
    "(\\s|-|\\.)?                     # separator\n",
    "(\\d{3})                        # first 3 digits\n",
    "(\\s|-|\\.)                      # separator\n",
    "(\\d{4})                        # last 4 digits\n",
    "(\\s*(ext|x|ext.)\\s*(\\d{2,5}))? # extension\n",
    ")''', re.VERBOSE)"
   ]
  },
  {
   "cell_type": "markdown",
   "metadata": {},
   "source": [
    "## re.VERBOSE稍微解釋一下，這就是說你寫的模板裡面可以加入註釋，系統會當作沒看到"
   ]
  },
  {
   "cell_type": "markdown",
   "metadata": {},
   "source": [
    "## [點一下](https://tinyurl.com/yyyopsqv)"
   ]
  },
  {
   "cell_type": "code",
   "execution_count": 24,
   "metadata": {},
   "outputs": [
    {
     "data": {
      "text/plain": [
       "['-336-6869',\n",
       " '-336-3506',\n",
       " '-332-6007',\n",
       " '-336-8788',\n",
       " '-339-2338',\n",
       " '-228-8553',\n",
       " '-360-1232',\n",
       " '-228-8246',\n",
       " '-339-0596',\n",
       " '-228-9657',\n",
       " '-217-1768',\n",
       " '-228-8930',\n",
       " '-220-8892',\n",
       " '-339-8648',\n",
       " '-228-9301',\n",
       " '-339-2777',\n",
       " '-360-0650',\n",
       " '-336-0860']"
      ]
     },
     "execution_count": 24,
     "metadata": {},
     "output_type": "execute_result"
    }
   ],
   "source": [
    "# Find matches in clipboard text.\n",
    "text = str(pyperclip.paste())\n",
    "matches = []\n",
    "for groups in phoneRegex.findall(text):\n",
    "    phoneNum = '-'.join([groups[1], groups[3], groups[5]])\n",
    "    if groups[8] != '':\n",
    "        phoneNum += ' x' + groups[8]\n",
    "    matches.append(phoneNum)\n",
    "matches"
   ]
  },
  {
   "cell_type": "markdown",
   "metadata": {},
   "source": [
    "# <span style=\"color:red \"><小測驗>\n",
    "---\n",
    "    1. 手機電話好像沒有篩出來。\n",
    "    2. 室內電話沒有顯示區碼\n",
    "    請幫忙解決一下"
   ]
  },
  {
   "cell_type": "code",
   "execution_count": null,
   "metadata": {},
   "outputs": [],
   "source": []
  },
  {
   "cell_type": "markdown",
   "metadata": {},
   "source": [
    "# <span style=\"color:red \"><答案>"
   ]
  },
  {
   "cell_type": "code",
   "execution_count": 25,
   "metadata": {},
   "outputs": [],
   "source": [
    "phoneRegex = re.compile(r'''(\n",
    "(\\d{2}|\\(\\d{2}\\))?             # 區碼改兩碼，可能有，但是手機沒有\n",
    "(\\s|-|\\.)?                     # 可能有分隔號\n",
    "(\\d{3,4})                      # 第一個區段，室內3碼，手機4碼\n",
    "(\\s|-|\\.)?                     # 可能有分隔號\n",
    "(\\d{3,4})                      # 室內4碼，手機3碼\n",
    "(\\s|-|\\.)?                     # 可能有分隔號\n",
    "(\\d{3,4})?                     # 手機3碼\n",
    "(\\s*(ext|x|ext.)\\s*(\\d{2,5}))? # extension\n",
    ")''', re.VERBOSE)"
   ]
  },
  {
   "cell_type": "code",
   "execution_count": 26,
   "metadata": {},
   "outputs": [
    {
     "data": {
      "text/plain": [
       "['0971-868-520',\n",
       " '0905-888-567',\n",
       " '03-336-6869',\n",
       " '03-336-3506',\n",
       " '03-332-6007',\n",
       " '03-336-8788',\n",
       " '03-339-2338',\n",
       " '03-228-8553',\n",
       " '03-360-1232',\n",
       " '03-228-8246',\n",
       " '03-339-0596',\n",
       " '03-228-9657',\n",
       " '03-217-1768',\n",
       " '0903-976-278',\n",
       " '03-228-8930',\n",
       " '0989-388-060',\n",
       " '03-220-8892',\n",
       " '03-339-8648',\n",
       " '03-228-9301',\n",
       " '03-339-2777',\n",
       " '03-360-0650',\n",
       " '03-336-0860']"
      ]
     },
     "execution_count": 26,
     "metadata": {},
     "output_type": "execute_result"
    }
   ],
   "source": [
    "# Find matches in clipboard text.\n",
    "text = str(pyperclip.paste())\n",
    "matches = []\n",
    "for groups in phoneRegex.findall(text):\n",
    "    if groups[1]:\n",
    "        phoneNum = '-'.join([groups[1],groups[3], groups[5]])\n",
    "    else:\n",
    "        phoneNum = '-'.join([groups[3], groups[5], groups[7]])\n",
    "    \n",
    "    if groups[8] != '':\n",
    "        phoneNum += ' x' + groups[8]\n",
    "    matches.append(phoneNum)\n",
    "matches"
   ]
  },
  {
   "cell_type": "markdown",
   "metadata": {},
   "source": [
    "# <span style=\"color:red \"><小測驗>\n",
    "---\n",
    "    我有一段文字\n",
    "    \"For more details please mail us at: xyz@abc.com,pqr@mno.com\"\n",
    "    麻煩幫我把裡面的兩個email address挑出來\n",
    "    xyz@abc.com\n",
    "    pqr@mno.com"
   ]
  },
  {
   "cell_type": "code",
   "execution_count": null,
   "metadata": {},
   "outputs": [],
   "source": []
  },
  {
   "cell_type": "markdown",
   "metadata": {},
   "source": [
    "# <span style=\"color:red \"><答案>"
   ]
  },
  {
   "cell_type": "code",
   "execution_count": 65,
   "metadata": {},
   "outputs": [
    {
     "name": "stdout",
     "output_type": "stream",
     "text": [
      "xyz@abc.com\n",
      "pqr@mno.com\n"
     ]
    }
   ],
   "source": [
    "doc = \"For more details please mail us at: xyz@abc.com,pqr@mno.com\"\n",
    "addresses = re.findall(r'[\\w]+@[\\w\\.]+', doc)\n",
    "for address in addresses:\n",
    "    print(address)"
   ]
  },
  {
   "cell_type": "markdown",
   "metadata": {},
   "source": [
    "# <span style=\"color:red \"><小測驗>\n",
    "---\n",
    "    我有一段文字\n",
    "    \"For more details please mail us at xyz@abc.com\"\n",
    "    麻煩幫我把裡面的email address替換一下\n",
    "    變成\"For more details please mail us at pqr@mno.com\""
   ]
  },
  {
   "cell_type": "code",
   "execution_count": null,
   "metadata": {},
   "outputs": [],
   "source": []
  },
  {
   "cell_type": "markdown",
   "metadata": {},
   "source": [
    "# <span style=\"color:red \"><答案>"
   ]
  },
  {
   "cell_type": "code",
   "execution_count": null,
   "metadata": {},
   "outputs": [],
   "source": [
    "doc = \"For more details please mail us at xyz@abc.com\"\n",
    "new_email_address = re.sub(r'([\\w]+)@([\\w\\.]+)', 'pqr@mno.com', doc)\n",
    "print(new_email_address)"
   ]
  },
  {
   "cell_type": "markdown",
   "metadata": {},
   "source": [
    "```\n",
    "\n",
    "只找ab，出現一次就好:\n",
    "Regex: [ab]\n",
    "```\n",
    "\n",
    "```\n",
    "除了ab，其他以外都好:\n",
    "Regex: [^ab]\n",
    "```\n",
    "\n",
    "```\n",
    "a-z的範圍都好:\n",
    "Regex: [a-z]\n",
    "```\n",
    "```\n",
    "a-z的範圍不要:\n",
    "Regex: [^a-z]\n",
    "```\n",
    "```\n",
    "a-z A-Z大小寫都要:\n",
    "Regex: [a-zA-Z]\n",
    "```\n",
    "```\n",
    "找空白:\n",
    "Regex: \\s\n",
    "```\n",
    "```\n",
    "找非空白:\n",
    "Regex: \\S\n",
    "```\n",
    "```\n",
    "任何數字:\n",
    "Regex: \\d\n",
    "```\n",
    "```\n",
    "任何非數字:\n",
    "Regex: \\D\n",
    "```\n",
    "```\n",
    "任何非文字:\n",
    "Regex: \\W\n",
    "```\n",
    "```\n",
    "任何文字:\n",
    "Regex: \\w\n",
    "```\n",
    "```\n",
    "a 或 b 都好:\n",
    "Regex: (a|b)\n",
    "```\n",
    "```\n",
    "0次或1次都好\n",
    "Regex: a?\n",
    "```\n",
    "```\n",
    "0次以上都可以\n",
    "Regex: a*\n",
    "```\n",
    "```\n",
    "至少一次以上\n",
    "Regex: a+\n",
    "```\n",
    "```\n",
    "只有剛好３次才算\n",
    "Regex: a{3}\n",
    "```\n",
    "```\n",
    "３次到６次都行\n",
    "Regex: a{3,6}\n",
    "```\n",
    "```\n",
    "開頭\n",
    "Regex: ^\n",
    "```\n",
    "```\n",
    "結尾\n",
    "Regex: $\n",
    "```\n",
    "```\n",
    "文字邊界你可以決定開頭ain:\n",
    "Regex: r\"\\bain\"\n",
    "或是結尾ain:\n",
    "Regex: r\"ain\\b\"\n",
    "```\n"
   ]
  },
  {
   "cell_type": "markdown",
   "metadata": {},
   "source": [
    "# [中文搜尋範例參考](https://ithelp.ithome.com.tw/articles/10232174)"
   ]
  }
 ],
 "metadata": {
  "kernelspec": {
   "display_name": "Python 3",
   "language": "python",
   "name": "python3"
  },
  "language_info": {
   "codemirror_mode": {
    "name": "ipython",
    "version": 3
   },
   "file_extension": ".py",
   "mimetype": "text/x-python",
   "name": "python",
   "nbconvert_exporter": "python",
   "pygments_lexer": "ipython3",
   "version": "3.8.5"
  }
 },
 "nbformat": 4,
 "nbformat_minor": 4
}
