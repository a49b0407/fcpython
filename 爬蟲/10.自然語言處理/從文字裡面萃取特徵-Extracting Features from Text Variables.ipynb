{
 "cells": [
  {
   "cell_type": "markdown",
   "metadata": {},
   "source": [
    "<h1>光頭傑夫製作</h1><img src=\"https://rolqiw.bl.files.1drv.com/y4mYqkObWmQmdJFd8pab8t8m7d_mFhh3_YG63fiAnPaG6gjahHFt0n087pF97x1W2wemm7hd4ZdiPD2OxoPtqcCD_4-Jy-fojnt97kGGWR4Hnq0-9Ny61afd7WVHVTmF_9pcr45OFDFSwLKByeQU1q9TjwKk-HsNmWVsW1eGQ4Gi-9G4pQ5DYoTxswYJ5r5dLF-kKsA1InEyrqmV3kF5pm4WQ?width=658&height=584&cropmode=none\" style='width:160px;margin:0'/>"
   ]
  },
  {
   "cell_type": "markdown",
   "metadata": {},
   "source": [
    "# <span style=\"color:red \">導入工具"
   ]
  },
  {
   "cell_type": "code",
   "execution_count": null,
   "metadata": {},
   "outputs": [],
   "source": [
    "import nltk"
   ]
  },
  {
   "cell_type": "markdown",
   "metadata": {},
   "source": [
    "# <span style=\"color:red \"><將文字轉成可以計算的數據-方法一>-Using One Hot Encoding\n",
    "----\n",
    "   如果你還記得Dummy Variable，那你就已經知道怎麼做\n",
    "    "
   ]
  },
  {
   "cell_type": "code",
   "execution_count": 1,
   "metadata": {
    "scrolled": true
   },
   "outputs": [
    {
     "data": {
      "text/html": [
       "<div>\n",
       "<style scoped>\n",
       "    .dataframe tbody tr th:only-of-type {\n",
       "        vertical-align: middle;\n",
       "    }\n",
       "\n",
       "    .dataframe tbody tr th {\n",
       "        vertical-align: top;\n",
       "    }\n",
       "\n",
       "    .dataframe thead th {\n",
       "        text-align: right;\n",
       "    }\n",
       "</style>\n",
       "<table border=\"1\" class=\"dataframe\">\n",
       "  <thead>\n",
       "    <tr style=\"text-align: right;\">\n",
       "      <th></th>\n",
       "      <th>I</th>\n",
       "      <th>NLP</th>\n",
       "      <th>am</th>\n",
       "      <th>learning</th>\n",
       "    </tr>\n",
       "  </thead>\n",
       "  <tbody>\n",
       "    <tr>\n",
       "      <th>0</th>\n",
       "      <td>1</td>\n",
       "      <td>0</td>\n",
       "      <td>0</td>\n",
       "      <td>0</td>\n",
       "    </tr>\n",
       "    <tr>\n",
       "      <th>1</th>\n",
       "      <td>0</td>\n",
       "      <td>0</td>\n",
       "      <td>1</td>\n",
       "      <td>0</td>\n",
       "    </tr>\n",
       "    <tr>\n",
       "      <th>2</th>\n",
       "      <td>0</td>\n",
       "      <td>0</td>\n",
       "      <td>0</td>\n",
       "      <td>1</td>\n",
       "    </tr>\n",
       "    <tr>\n",
       "      <th>3</th>\n",
       "      <td>0</td>\n",
       "      <td>1</td>\n",
       "      <td>0</td>\n",
       "      <td>0</td>\n",
       "    </tr>\n",
       "  </tbody>\n",
       "</table>\n",
       "</div>"
      ],
      "text/plain": [
       "   I  NLP  am  learning\n",
       "0  1    0   0         0\n",
       "1  0    0   1         0\n",
       "2  0    0   0         1\n",
       "3  0    1   0         0"
      ]
     },
     "execution_count": 1,
     "metadata": {},
     "output_type": "execute_result"
    }
   ],
   "source": [
    "# Importing the library\n",
    "import pandas as pd\n",
    "\n",
    "Text = \"I am learning NLP\"\n",
    "# Generating the features\n",
    "pd.get_dummies(Text.split())"
   ]
  },
  {
   "cell_type": "markdown",
   "metadata": {},
   "source": [
    "# <span style=\"color:red \"><將文字轉成可以計算的數據-方法二>-Using Count Vectorizing\n",
    "----\n",
    "    One Hot Encoding有缺點，只知道有沒有，不知道到底頻率多高，到底出現了幾次??  \n",
    "###     CountVectorizer出場"
   ]
  },
  {
   "cell_type": "code",
   "execution_count": 2,
   "metadata": {},
   "outputs": [
    {
     "name": "stdout",
     "output_type": "stream",
     "text": [
      "{'love': 4, 'nlp': 5, 'and': 1, 'will': 6, 'learn': 3, 'in': 2, '2month': 0}\n",
      "[[1 1 1 1 1 2 1]]\n"
     ]
    }
   ],
   "source": [
    "from sklearn.feature_extraction.text import CountVectorizer\n",
    "\n",
    "# 目標文字\n",
    "text = [\"I love NLP and I will learn NLP in 2month \"]\n",
    "\n",
    "# 創建機器人\n",
    "vectorizer = CountVectorizer()\n",
    "\n",
    "# 開始斷字訓練\n",
    "vectorizer.fit(text)\n",
    "\n",
    "# 把目標文字重新歸類一次\n",
    "vector = vectorizer.transform(text)\n",
    "\n",
    "# 輸出結果\n",
    "# 斷字的編號順序\n",
    "print(vectorizer.vocabulary_)\n",
    "# 每個編號順序的出現頻率\n",
    "print(vector.toarray())\n"
   ]
  },
  {
   "cell_type": "markdown",
   "metadata": {},
   "source": [
    "### CountVectorizer()會先把你的Text都標記一次\n",
    "### 再數數一次"
   ]
  },
  {
   "attachments": {
    "image.png": {
     "image/png": "[encoded data removed]"
    }
   },
   "cell_type": "markdown",
   "metadata": {},
   "source": [
    "#  <span style=\"color:red\"> 上面的這個方法，我們也稱為bag-of-words (BoW)\n",
    "----\n",
    "    我們把一段文字，改用裡面的字和出現次數來重新詮釋，那就稱為bag-of-words (BoW)\n",
    "    譬如:Dogs like cats, but cats do not like dogs\n",
    "    它的Bow如下:\n",
    "![image.png](attachment:image.png)\n",
    "----\n",
    "    經過BoW處理，\n",
    "    每一個文字變成變數，\n",
    "    然後變數的值變成這個文字出現的次數。\n",
    "----\n",
    "    好處是簡單、有效。\n",
    "    缺點是它沒有辦法保留字的順序和文法\n",
    "    還有一點就是，它是以字為單位去做count\n",
    "    "
   ]
  },
  {
   "cell_type": "markdown",
   "metadata": {},
   "source": [
    "# <span style=\"color:red \">將文字轉成可以計算的數據-N-grams\n",
    "----\n",
    "    因為BoW是以字為單位去做count，\n",
    "    那如果你碰到文字是“not bad.”，一數，\n",
    "    客人是說'不錯'，結果你數成'not':1,'bad':1\n",
    "    這樣對嗎?\n",
    "----\n",
    "    N-grams出場\n",
    "    他用不同的字段來切文章\n",
    "    舉例來說:\n",
    "    “I am learning NLP”\n",
    "    單字為單位:\n",
    "    Unigrams: “I”, “am”, “ learning”, “NLP”\n",
    "    雙字為單位:\n",
    "    Bigrams: “I am”, “am learning”, “learning NLP”\n",
    "    三字為單位:\n",
    "    Trigrams: “I am learning”, “am learning NLP”"
   ]
  },
  {
   "cell_type": "code",
   "execution_count": 3,
   "metadata": {},
   "outputs": [
    {
     "name": "stdout",
     "output_type": "stream",
     "text": [
      "{'love nlp': 3, 'nlp and': 4, 'and will': 0, 'will learn': 6, 'learn nlp': 2, 'nlp in': 5, 'in 2month': 1}\n",
      "[[1 1 1 1 1 1 1]]\n"
     ]
    }
   ],
   "source": [
    "from sklearn.feature_extraction.text import CountVectorizer\n",
    "# Text\n",
    "text = [\"I love NLP and I will learn NLP in 2month \"]\n",
    "\n",
    "# create the transform\n",
    "# ngram_range決定你要多少字當一段， (min_n, max_n)\n",
    "vectorizer = CountVectorizer(ngram_range=(2,2))\n",
    "\n",
    "# tokenizing\n",
    "vectorizer.fit(text)\n",
    "\n",
    "# encode document\n",
    "vector = vectorizer.transform(text)\n",
    "\n",
    "# summarize & generating output\n",
    "print(vectorizer.vocabulary_)\n",
    "print(vector.toarray())"
   ]
  },
  {
   "cell_type": "code",
   "execution_count": null,
   "metadata": {},
   "outputs": [],
   "source": [
    "#nltk也有提供相關的方法\n",
    "from nltk import ngrams\n",
    "list(ngrams('The cute little boy is playing with the kitten.'.split(), 2))"
   ]
  },
  {
   "cell_type": "markdown",
   "metadata": {},
   "source": [
    "# <span style=\"color:red \">將文字轉成可以計算的數據-TF-IDF\n",
    "----\n",
    "    還是有缺點，\n",
    "    如果我們有好幾篇文章，\n",
    "    依照次數的分析，可能都一樣。\n",
    "    那我們會以為它們是差不多的狀況，\n",
    "    但是如果文章篇長不一樣(一篇20個字，一篇2000個字)，\n",
    "    那financial都出現三次，那我們就說這兩篇文章差不多，\n",
    "    這樣對嗎?\n",
    "----\n",
    "##    TF-IDF出場\n"
   ]
  },
  {
   "attachments": {
    "image.png": {
     "image/png": "[encoded data removed]"
    }
   },
   "cell_type": "markdown",
   "metadata": {},
   "source": [
    "    Term frequency (TF)\n",
    "        -表示詞頻，即一個詞在在一篇文章中出現的次數，但在實際應用時會有一個漏洞，就是篇幅長的文章給定詞出現的次數會更多一點。\n",
    "         因此我們需要對次數 進行歸一化，通常用給定詞的次數除以文章的總詞數。\n",
    "------\n",
    "![image.png](attachment:image.png)"
   ]
  },
  {
   "attachments": {
    "image-2.png": {
     "image/png": "[encoded data removed]"
    }
   },
   "cell_type": "markdown",
   "metadata": {},
   "source": [
    "     IDF（Inverse Document Frequency）\n",
    "        -逆文本頻率指數，如果包含關鍵詞w的文檔越少，則說明關鍵詞w具有很好的類別區分能力。某一關鍵詞的IDF，\n",
    "         可以用總的文章數量除以包含該關鍵詞的文章的數量，然後對結果取對數得到\n",
    "\n",
    "------\n",
    "![image-2.png](attachment:image-2.png)"
   ]
  },
  {
   "attachments": {
    "image-2.png": {
     "image/png": "[encoded data removed]"
    }
   },
   "cell_type": "markdown",
   "metadata": {},
   "source": [
    "    TF-IDF\n",
    "------\n",
    "![image-2.png](attachment:image-2.png)"
   ]
  },
  {
   "cell_type": "code",
   "execution_count": 4,
   "metadata": {},
   "outputs": [],
   "source": [
    "Text = [\"The quick brown fox jumped over the lazy dog.\",\n",
    "\"The dog.\",\n",
    "\"The fox\"]"
   ]
  },
  {
   "cell_type": "code",
   "execution_count": 5,
   "metadata": {},
   "outputs": [
    {
     "name": "stdout",
     "output_type": "stream",
     "text": [
      "{'the': 7, 'quick': 6, 'brown': 0, 'fox': 2, 'jumped': 3, 'over': 5, 'lazy': 4, 'dog': 1}\n",
      "[1.69314718 1.28768207 1.28768207 1.69314718 1.69314718 1.69314718\n",
      " 1.69314718 1.        ]\n",
      "--------------------------------------------------\n",
      "the : 1.0\n",
      "quick : 1.693\n",
      "brown : 1.693\n",
      "fox : 1.288\n",
      "jumped : 1.693\n",
      "over : 1.693\n",
      "lazy : 1.693\n",
      "dog : 1.288\n"
     ]
    }
   ],
   "source": [
    "#Import TfidfVectorizer\n",
    "from sklearn.feature_extraction.text import TfidfVectorizer\n",
    "\n",
    "#Create the transform\n",
    "vectorizer = TfidfVectorizer()\n",
    "#Tokenize and build vocab\n",
    "vectorizer.fit(Text)\n",
    "#Summarize\n",
    "print(vectorizer.vocabulary_)\n",
    "print(vectorizer.idf_)\n",
    "print('-'*50)\n",
    "target=vectorizer.idf_.tolist()\n",
    "#print(target('dog'))\n",
    "for key, value in vectorizer.vocabulary_.items():\n",
    "    print(key,':',round(target[value],3))"
   ]
  },
  {
   "cell_type": "markdown",
   "metadata": {},
   "source": [
    "### 注意the，三篇文章都有，所以完全沒有辨識度，所以只給1分。\n",
    "### 你會發現，第一篇文章才有的字，都會給高分，因為看到它就知道這是第一篇文章"
   ]
  },
  {
   "cell_type": "markdown",
   "metadata": {},
   "source": [
    "#  <span style=\"color:red\"> Sentimental Analysis-情緒分析\n",
    "----\n",
    "    在Social Media的時代，\n",
    "    很多人會在社交平台上面發表Opinion(意見),\n",
    "    所以就產生了opinion mining(意見挖礦)。\n",
    "    這個過程就是希望透過對裡面文字的分析，可以判斷出這段文字的傾向。\n",
    "    基本上會分成三種:positive, neutral,or negative."
   ]
  },
  {
   "cell_type": "markdown",
   "metadata": {},
   "source": [
    "# <span style=\"color:red \">第一個工具-textblob"
   ]
  },
  {
   "cell_type": "markdown",
   "metadata": {},
   "source": [
    "### <span style=\"color:red \">安裝工具"
   ]
  },
  {
   "cell_type": "code",
   "execution_count": null,
   "metadata": {},
   "outputs": [],
   "source": [
    "! pip install textblob"
   ]
  },
  {
   "cell_type": "markdown",
   "metadata": {},
   "source": [
    "# <span style=\"color:red \">textblob會返回兩個數\n",
    "    * Polarity\n",
    "      -範圍是[-1,1]，1代表很正面的言論，-1代表很負面的言論。\n",
    "    * Subjectivity\n",
    "      -範圍是[0,1]，0是非常客觀的，而1是非常主觀的。"
   ]
  },
  {
   "cell_type": "code",
   "execution_count": 6,
   "metadata": {},
   "outputs": [],
   "source": [
    "#底下是兩段客人的留言\n",
    "review = \"I like this phone. screen quality and camera clarity is really good.\"\n",
    "review2 = \"This tv is not good. Bad quality, no clarity, worst experience\""
   ]
  },
  {
   "cell_type": "code",
   "execution_count": 7,
   "metadata": {},
   "outputs": [
    {
     "data": {
      "text/plain": [
       "Sentiment(polarity=0.7, subjectivity=0.6000000000000001)"
      ]
     },
     "execution_count": 7,
     "metadata": {},
     "output_type": "execute_result"
    }
   ],
   "source": [
    "#導入模組\n",
    "from textblob import TextBlob\n",
    "\n",
    "#TextBlob 有自己訓練好的模組，可以完成這個工作\n",
    "blob = TextBlob(review)\n",
    "blob.sentiment"
   ]
  },
  {
   "cell_type": "code",
   "execution_count": 8,
   "metadata": {},
   "outputs": [
    {
     "data": {
      "text/plain": [
       "Sentiment(polarity=-0.6833333333333332, subjectivity=0.7555555555555555)"
      ]
     },
     "execution_count": 8,
     "metadata": {},
     "output_type": "execute_result"
    }
   ],
   "source": [
    "blob = TextBlob(review2)\n",
    "blob.sentiment"
   ]
  },
  {
   "cell_type": "markdown",
   "metadata": {},
   "source": [
    "# <span style=\"color:red \">第二個工具-vaderSentiment"
   ]
  },
  {
   "cell_type": "markdown",
   "metadata": {},
   "source": [
    "### <span style=\"color:red \">安裝工具"
   ]
  },
  {
   "cell_type": "code",
   "execution_count": null,
   "metadata": {},
   "outputs": [],
   "source": [
    "pip install vaderSentiment"
   ]
  },
  {
   "cell_type": "code",
   "execution_count": 9,
   "metadata": {},
   "outputs": [
    {
     "name": "stdout",
     "output_type": "stream",
     "text": [
      "{'neg': 0.0, 'neu': 0.556, 'pos': 0.444, 'compound': 0.6115}\n"
     ]
    }
   ],
   "source": [
    "from vaderSentiment.vaderSentiment import SentimentIntensityAnalyzer\n",
    "analyzer = SentimentIntensityAnalyzer()\n",
    "sentence = \"I'm really happy with my purchase\"\n",
    "vs = analyzer.polarity_scores(sentence)\n",
    "print(vs)\n",
    "\n",
    "#複合表示總體得分，neu表示中性，neg表示負面情緒，pos表示正面情緒"
   ]
  },
  {
   "cell_type": "code",
   "execution_count": 10,
   "metadata": {},
   "outputs": [
    {
     "name": "stdout",
     "output_type": "stream",
     "text": [
      "\n",
      "            I'm really happy with my purchase.  :  0.6115\n",
      "I've been using the product for two weeks now.  :  0.0\n",
      "It does exactly as described in the product description.  :  0.0\n",
      "The only problem is that it takes a long time to charge.  :  -0.4019\n",
      "However, since I recharge during nights, this is something I can\n",
      "            live with.  :  0.0\n",
      "Average score: 0.04192000000000001\n"
     ]
    }
   ],
   "source": [
    "from vaderSentiment.vaderSentiment import SentimentIntensityAnalyzer\n",
    "from nltk import tokenize\n",
    "\n",
    "analyzer = SentimentIntensityAnalyzer()\n",
    "paragraph = \"\"\"\n",
    "            I'm really happy with my purchase.\n",
    "            I've been using the product for two weeks now.\n",
    "            It does exactly as described in the product description.\n",
    "            The only problem is that it takes a long time to charge.\n",
    "            However, since I recharge during nights, this is something I can\n",
    "            live with.\n",
    "            \"\"\"\n",
    "sentence_list = tokenize.sent_tokenize(paragraph)\n",
    "cumulative_sentiment = 0.0\n",
    "for sentence in sentence_list:\n",
    "    vs = analyzer.polarity_scores(sentence)\n",
    "    #把compound成績加總起來\n",
    "    cumulative_sentiment += vs[\"compound\"]\n",
    "    print(sentence, ' : ', vs[\"compound\"])\n",
    "#最後算個平均\n",
    "average_score = cumulative_sentiment / len(sentence_list)\n",
    "print('Average score:', average_score)"
   ]
  },
  {
   "cell_type": "markdown",
   "metadata": {},
   "source": [
    "  "
   ]
  },
  {
   "cell_type": "markdown",
   "metadata": {},
   "source": [
    "# <span style=\"color:red \"> <測驗題>\n",
    "\n",
    "---\n",
    "資料夾裡面有一個Amazon的顧客反饋資料庫，請先幫忙導進來，當一個pandas檔案"
   ]
  },
  {
   "cell_type": "code",
   "execution_count": null,
   "metadata": {},
   "outputs": [],
   "source": []
  },
  {
   "cell_type": "markdown",
   "metadata": {},
   "source": [
    "### <span style=\"color:red \"> <答案>"
   ]
  },
  {
   "cell_type": "code",
   "execution_count": null,
   "metadata": {},
   "outputs": [],
   "source": [
    "import sqlite3\n",
    "import pandas as pd\n",
    "db = sqlite3.connect('reviews.db')\n",
    "results = db.execute(\"SELECT * from reviews\")\n",
    "results = results.fetchall()        # 結果轉成元素是元組的串列\n",
    "reviews=pd.DataFrame(results,columns=['id','review_id','rating','title','review'])\n",
    "reviews"
   ]
  },
  {
   "cell_type": "markdown",
   "metadata": {},
   "source": [
    "# <span style=\"color:red \"> <測驗題>\n",
    "\n",
    "---\n",
    "每一篇反饋的Title和review都充滿了客人滿滿的情緒，請利用這兩個欄位，做一下情感分析"
   ]
  },
  {
   "cell_type": "code",
   "execution_count": null,
   "metadata": {},
   "outputs": [],
   "source": []
  },
  {
   "cell_type": "markdown",
   "metadata": {},
   "source": [
    "### <span style=\"color:red \"> <答案>"
   ]
  },
  {
   "cell_type": "code",
   "execution_count": null,
   "metadata": {},
   "outputs": [],
   "source": [
    "from vaderSentiment.vaderSentiment import SentimentIntensityAnalyzer\n",
    "from nltk import tokenize\n",
    "import sqlite3\n",
    "import pandas as pd\n",
    "\n",
    "\n",
    "db = sqlite3.connect('reviews.db')\n",
    "results = db.execute(\"SELECT * from reviews\")\n",
    "results = results.fetchall()        # 結果轉成元素是元組的串列\n",
    "reviews=pd.DataFrame(results,columns=['id','review_id','rating','title','review'])\n",
    "analyzer = SentimentIntensityAnalyzer()\n",
    "\n",
    "def process(full_review):\n",
    "    sentence_list = tokenize.sent_tokenize(full_review)\n",
    "    cumulative_sentiment = 0.0\n",
    "    for sentence in sentence_list:\n",
    "        vs = analyzer.polarity_scores(sentence)\n",
    "        cumulative_sentiment += vs[\"compound\"]\n",
    "    average_score = cumulative_sentiment / len(sentence_list)\n",
    "    return average_score\n",
    "    \n",
    "reviews['full_review']=reviews['title'] + '. ' +reviews['review']\n",
    "reviews['average_score']=reviews['full_review'].apply(process)\n",
    "reviews"
   ]
  }
 ],
 "metadata": {
  "kernelspec": {
   "display_name": "Python 3",
   "language": "python",
   "name": "python3"
  },
  "language_info": {
   "codemirror_mode": {
    "name": "ipython",
    "version": 3
   },
   "file_extension": ".py",
   "mimetype": "text/x-python",
   "name": "python",
   "nbconvert_exporter": "python",
   "pygments_lexer": "ipython3",
   "version": "3.8.5"
  }
 },
 "nbformat": 4,
 "nbformat_minor": 4
}
