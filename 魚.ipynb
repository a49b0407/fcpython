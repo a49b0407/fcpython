{
 "cells": [
  {
   "cell_type": "code",
   "execution_count": 1,
   "id": "da2dc346",
   "metadata": {},
   "outputs": [],
   "source": [
    "#這次疫情關係餐飲業者受影響只能外宅配，只好降低進貨成本\n",
    "#餐飲集團海鮮部門分析漁獲，提早決定今年進貨管道降低成本\n",
    "#可以和聘天氣雨勢分析，暴雨內陸養殖的語彙跑出來\n",
    "#颱風天遠洋近海無法捕魚"
   ]
  },
  {
   "cell_type": "code",
   "execution_count": null,
   "id": "73f17685",
   "metadata": {},
   "outputs": [],
   "source": [
    "#CSV檔案可以使用這種方式，但是ods檔不行\n",
    "import panda\n",
    "url='https://plantleaf.weebly.com/uploads/1/1/5/5/115551171/10906_%E6%AD%B7%E5%B9%B4%E6%BC%81%E6%A5%AD%E7%94%9F%E7%94%A2%E9%87%8F%E5%80%BC.ods'"
   ]
  }
 ],
 "metadata": {
  "kernelspec": {
   "display_name": "Python 3",
   "language": "python",
   "name": "python3"
  },
  "language_info": {
   "codemirror_mode": {
    "name": "ipython",
    "version": 3
   },
   "file_extension": ".py",
   "mimetype": "text/x-python",
   "name": "python",
   "nbconvert_exporter": "python",
   "pygments_lexer": "ipython3",
   "version": "3.8.8"
  }
 },
 "nbformat": 4,
 "nbformat_minor": 5
}
