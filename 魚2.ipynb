{
 "cells": [
  {
   "cell_type": "code",
   "execution_count": null,
   "id": "7f4a9ab8",
   "metadata": {},
   "outputs": [],
   "source": [
    "#這次疫情關係餐飲業者受影響只能外宅配，只好降低進貨成本\n",
    "#餐飲集團海鮮部門分析漁獲，提早決定今年進貨管道降低成本，爬蟲人員將資料爬下來做成圖，再來就給主管或採購決定進貨管道\n",
    "#可以和聘天氣雨勢分析，暴雨內陸養殖的語彙跑出來\n",
    "#颱風天遠洋近海無法捕魚"
   ]
  },
  {
   "cell_type": "code",
   "execution_count": null,
   "id": "d80a5a0f",
   "metadata": {},
   "outputs": [],
   "source": [
    "#CSV檔案可以使用這種方式，但是ods檔不行\n",
    "#https://plantleaf.weebly.com/\n",
    "#觸動一下即可找到\n",
    "import pandas as pd\n",
    "url='https://plantleaf.weebly.com/uploads/1/1/5/5/115551171/10906_%E6%AD%B7%E5%B9%B4%E6%BC%81%E6%A5%AD%E7%94%9F%E7%94%A2%E9%87%8F%E5%80%BC.ods'\n",
    "df=pd.read_ods(url)"
   ]
  },
  {
   "cell_type": "code",
   "execution_count": null,
   "id": "a9c0daa6",
   "metadata": {},
   "outputs": [],
   "source": [
    "#長條圖通常是用來表達一組數量資料\n",
    "flish={'年次':[48,49,50,51,52,53],'單船拖網':[18152,23927,27019,22531,19692,19743],\n",
    "       '雙船拖網':[49237,53776,71240,82363,90581,97495],'遠洋鮪延繩釣':[8815,7507,7862,8701,9607,9476],\n",
    "      '巾著網':[12967,9587,18436,22735,20105,23753],'棒受網':[18228,19563,28172,32869,41470,37874],\n",
    "   '中小拖網':[8092,8784,9497,12211,17007,21516],'近海鮪延繩釣':[12719,14061,15589,16510,15760,15944],\n",
    "      '雜魚延繩釣':[13745,14284,14472,13382,12704,12808],'曳繩釣':[3178,3606,4382,5489,4372,5472],\n",
    "       '一支釣':[9877,10632,9955,8901,9922,14848],'其他近海漁業':[9362,10652,4528,4325,4450,6945],\n",
    "       '定置漁具':[3499,2391,2283,3001,2467,2747],'地曳網':[7079,5898,6675,7852,12953,8824],\n",
    "       '焚寄網':[5706,4493,3857,3649,3778,3198],'刺網':[2588,3216,3610,3571,4046,4333],\n",
    "       '其他網':[4097,3607,4823,4665,4680,4043],'其他釣':[3803,3726,3480,2847,2865,2763],\n",
    "       '鏢旗魚':[3074,3686,4478,4348,4941,4731],'其他沿岸漁業':[3727,4743,5316,5282,4760,4958],\n",
    "       '河川漁撈':[1684,1969,1483,1421,1306,1325],'淺海養殖':[6446,7839,9924,9129,9818,10388],\n",
    "       '鹹水魚塭':[29374,29878,34941,28548,29065,33955],'淡水魚塭':[8066,7952,8950,7448,7665,8214],\n",
    "       '其他內陸養殖':[2606,3360,3539,3515,3424,3736]\n",
    "      }\n",
    "df=pd.DataFrame(data=flish)\n",
    "df"
   ]
  },
  {
   "cell_type": "code",
   "execution_count": null,
   "id": "444c9c3c",
   "metadata": {},
   "outputs": [],
   "source": [
    "import matplotlib.pyplot as plt\n",
    "plt.rcParams[\"font.family\"]=[\"Microsoft YaHei\"]"
   ]
  },
  {
   "cell_type": "code",
   "execution_count": null,
   "id": "067adf5f",
   "metadata": {},
   "outputs": [],
   "source": [
    "df.groupby(\"年次\")[\"單船拖網\"].sum().plot(kind=\"bar\",figsize=(10,7))"
   ]
  },
  {
   "cell_type": "code",
   "execution_count": null,
   "id": "185e76af",
   "metadata": {},
   "outputs": [],
   "source": []
  },
  {
   "cell_type": "code",
   "execution_count": null,
   "id": "0957e29e",
   "metadata": {},
   "outputs": [],
   "source": []
  }
 ],
 "metadata": {
  "kernelspec": {
   "display_name": "Python 3",
   "language": "python",
   "name": "python3"
  },
  "language_info": {
   "codemirror_mode": {
    "name": "ipython",
    "version": 3
   },
   "file_extension": ".py",
   "mimetype": "text/x-python",
   "name": "python",
   "nbconvert_exporter": "python",
   "pygments_lexer": "ipython3",
   "version": "3.8.8"
  }
 },
 "nbformat": 4,
 "nbformat_minor": 5
}
